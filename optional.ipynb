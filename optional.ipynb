{
 "cells": [
  {
   "cell_type": "markdown",
   "metadata": {},
   "source": [
    "# High Frequency Trading Algorithm\n",
    "\n",
    "You have been tasked by the investment firm Renaissance High Frequency Trading (RHFT) to develop an automated trading strategy utilizing a combination of machine learning algorithms and high frequency algorithms. RHFT wants this new algorithm to be based on stock market data of the 30 stocks in the Dow Jones at the minute level and to conduct buys and sells every minute based on 1 min, 5 min, and 10 min Momentum. The CIO asked you to choose the Machine Learning Algorithm best suited for this task and wants you to execute the trades via Alpaca's API."
   ]
  },
  {
   "cell_type": "markdown",
   "metadata": {},
   "source": [
    "## Part 1: Prepare the data for training and testing"
   ]
  },
  {
   "cell_type": "markdown",
   "metadata": {},
   "source": [
    "### Initial Set-Up"
   ]
  },
  {
   "cell_type": "code",
   "execution_count": 41,
   "metadata": {},
   "outputs": [],
   "source": [
    "import os\n",
    "from pathlib import Path\n",
    "import alpaca_trade_api as tradeapi\n",
    "import pandas as pd\n",
    "import numpy as np\n",
    "import datetime\n",
    "import time\n",
    "from dotenv import load_dotenv\n"
   ]
  },
  {
   "cell_type": "code",
   "execution_count": 42,
   "metadata": {},
   "outputs": [
    {
     "data": {
      "text/plain": [
       "True"
      ]
     },
     "execution_count": 42,
     "metadata": {},
     "output_type": "execute_result"
    }
   ],
   "source": [
    "# Load .env enviroment variables\n",
    "from dotenv import load_dotenv\n",
    "load_dotenv()"
   ]
  },
  {
   "cell_type": "code",
   "execution_count": 43,
   "metadata": {},
   "outputs": [
    {
     "name": "stdout",
     "output_type": "stream",
     "text": [
      "Alpaca key data type: <class 'str'>\n",
      "Alpaca secret data type: <class 'str'>\n"
     ]
    }
   ],
   "source": [
    "# Set Alpaca API key and secret\n",
    "alpaca_api_key = os.getenv(\"ALPACA_API_KEY\")\n",
    "alpaca_secret_key = os.getenv(\"ALPACA_SECRET_KEY\")\n",
    "\n",
    "# Verify that environment variables were loaded\n",
    "print(f\"Alpaca key data type: {type(alpaca_api_key)}\")\n",
    "print(f\"Alpaca secret data type: {type(alpaca_secret_key)}\")"
   ]
  },
  {
   "cell_type": "code",
   "execution_count": 44,
   "metadata": {},
   "outputs": [],
   "source": [
    "# Create the Alpaca API object, specifying use of the paper trading account:\n",
    "alpaca = tradeapi.REST(\n",
    "     alpaca_api_key,\n",
    "    alpaca_secret_key,\n",
    "    \"http://paper-api.alpaca.markets\",\n",
    "    api_version = \"v2\"\n",
    ")"
   ]
  },
  {
   "cell_type": "markdown",
   "metadata": {},
   "source": [
    "### Data Generation\n",
    "\n"
   ]
  },
  {
   "cell_type": "markdown",
   "metadata": {},
   "source": [
    "#### 1. Create a ticker list, beginning and end dates, and timeframe interval.\n"
   ]
  },
  {
   "cell_type": "code",
   "execution_count": 45,
   "metadata": {},
   "outputs": [],
   "source": [
    "# Define a list of tickers\n",
    "ticker = [\"FB\", \"AMZN\", \"AAPL\", \"NFLX\", \"GOOGL\", \"MSFT\", \"TSLA\"]\n",
    "# declare begin and end date strings\n",
    "beg_date = '2021-01-05'\n",
    "end_date = '2021-01-05'\n",
    "# we convert begin and end date to formats that the ALPACA API requires\n",
    "start =  pd.Timestamp(f'{beg_date} 09:30:00-0400', tz='America/New_York').replace(hour=9, minute=30, second=0).astimezone('GMT').isoformat()[:-6]+'Z'\n",
    "end   =  pd.Timestamp(f'{end_date} 16:00:00-0400', tz='America/New_York').replace(hour=16, minute=0, second=0).astimezone('GMT').isoformat()[:-6]+'Z'\n",
    "# We set the time frequency at which we want to pull prices\n",
    "timeframe='1Min'"
   ]
  },
  {
   "cell_type": "markdown",
   "metadata": {},
   "source": [
    "#### 2. Ping the Alpaca API for the data and store it in a DataFrame called `prices` by using the `get_barset` function combined with the `df` method from the Alpaca Trade SDK."
   ]
  },
  {
   "cell_type": "code",
   "execution_count": 46,
   "metadata": {},
   "outputs": [
    {
     "data": {
      "text/html": [
       "<div>\n",
       "<style scoped>\n",
       "    .dataframe tbody tr th:only-of-type {\n",
       "        vertical-align: middle;\n",
       "    }\n",
       "\n",
       "    .dataframe tbody tr th {\n",
       "        vertical-align: top;\n",
       "    }\n",
       "\n",
       "    .dataframe thead tr th {\n",
       "        text-align: left;\n",
       "    }\n",
       "</style>\n",
       "<table border=\"1\" class=\"dataframe\">\n",
       "  <thead>\n",
       "    <tr>\n",
       "      <th></th>\n",
       "      <th colspan=\"5\" halign=\"left\">AAPL</th>\n",
       "      <th colspan=\"5\" halign=\"left\">AMZN</th>\n",
       "      <th>...</th>\n",
       "      <th colspan=\"5\" halign=\"left\">NFLX</th>\n",
       "      <th colspan=\"5\" halign=\"left\">TSLA</th>\n",
       "    </tr>\n",
       "    <tr>\n",
       "      <th></th>\n",
       "      <th>open</th>\n",
       "      <th>high</th>\n",
       "      <th>low</th>\n",
       "      <th>close</th>\n",
       "      <th>volume</th>\n",
       "      <th>open</th>\n",
       "      <th>high</th>\n",
       "      <th>low</th>\n",
       "      <th>close</th>\n",
       "      <th>volume</th>\n",
       "      <th>...</th>\n",
       "      <th>open</th>\n",
       "      <th>high</th>\n",
       "      <th>low</th>\n",
       "      <th>close</th>\n",
       "      <th>volume</th>\n",
       "      <th>open</th>\n",
       "      <th>high</th>\n",
       "      <th>low</th>\n",
       "      <th>close</th>\n",
       "      <th>volume</th>\n",
       "    </tr>\n",
       "  </thead>\n",
       "  <tbody>\n",
       "    <tr>\n",
       "      <th>2021-01-05 09:30:00-05:00</th>\n",
       "      <td>128.96</td>\n",
       "      <td>129.485</td>\n",
       "      <td>128.45</td>\n",
       "      <td>129.485</td>\n",
       "      <td>51887</td>\n",
       "      <td>3166.80</td>\n",
       "      <td>3173.53</td>\n",
       "      <td>3166.80</td>\n",
       "      <td>3172.980</td>\n",
       "      <td>1963.0</td>\n",
       "      <td>...</td>\n",
       "      <td>521.980</td>\n",
       "      <td>521.980</td>\n",
       "      <td>520.77</td>\n",
       "      <td>521.030</td>\n",
       "      <td>1355.0</td>\n",
       "      <td>723.66</td>\n",
       "      <td>726.280</td>\n",
       "      <td>721.35</td>\n",
       "      <td>725.23</td>\n",
       "      <td>18284.0</td>\n",
       "    </tr>\n",
       "    <tr>\n",
       "      <th>2021-01-05 09:31:00-05:00</th>\n",
       "      <td>129.48</td>\n",
       "      <td>130.170</td>\n",
       "      <td>129.30</td>\n",
       "      <td>130.060</td>\n",
       "      <td>44188</td>\n",
       "      <td>3173.59</td>\n",
       "      <td>3182.67</td>\n",
       "      <td>3173.58</td>\n",
       "      <td>3177.810</td>\n",
       "      <td>1266.0</td>\n",
       "      <td>...</td>\n",
       "      <td>520.920</td>\n",
       "      <td>521.755</td>\n",
       "      <td>520.92</td>\n",
       "      <td>521.365</td>\n",
       "      <td>1112.0</td>\n",
       "      <td>726.60</td>\n",
       "      <td>726.999</td>\n",
       "      <td>722.42</td>\n",
       "      <td>723.00</td>\n",
       "      <td>7760.0</td>\n",
       "    </tr>\n",
       "    <tr>\n",
       "      <th>2021-01-05 09:32:00-05:00</th>\n",
       "      <td>130.17</td>\n",
       "      <td>130.320</td>\n",
       "      <td>129.93</td>\n",
       "      <td>130.020</td>\n",
       "      <td>12852</td>\n",
       "      <td>3175.00</td>\n",
       "      <td>3175.47</td>\n",
       "      <td>3174.91</td>\n",
       "      <td>3175.470</td>\n",
       "      <td>778.0</td>\n",
       "      <td>...</td>\n",
       "      <td>522.355</td>\n",
       "      <td>522.355</td>\n",
       "      <td>520.77</td>\n",
       "      <td>520.770</td>\n",
       "      <td>1347.0</td>\n",
       "      <td>723.10</td>\n",
       "      <td>723.100</td>\n",
       "      <td>719.78</td>\n",
       "      <td>720.57</td>\n",
       "      <td>9902.0</td>\n",
       "    </tr>\n",
       "    <tr>\n",
       "      <th>2021-01-05 09:33:00-05:00</th>\n",
       "      <td>130.09</td>\n",
       "      <td>130.140</td>\n",
       "      <td>129.78</td>\n",
       "      <td>130.120</td>\n",
       "      <td>14192</td>\n",
       "      <td>3181.52</td>\n",
       "      <td>3181.52</td>\n",
       "      <td>3177.87</td>\n",
       "      <td>3179.360</td>\n",
       "      <td>660.0</td>\n",
       "      <td>...</td>\n",
       "      <td>520.840</td>\n",
       "      <td>520.840</td>\n",
       "      <td>520.00</td>\n",
       "      <td>520.000</td>\n",
       "      <td>1582.0</td>\n",
       "      <td>720.53</td>\n",
       "      <td>722.710</td>\n",
       "      <td>719.22</td>\n",
       "      <td>719.71</td>\n",
       "      <td>7086.0</td>\n",
       "    </tr>\n",
       "    <tr>\n",
       "      <th>2021-01-05 09:34:00-05:00</th>\n",
       "      <td>130.15</td>\n",
       "      <td>130.580</td>\n",
       "      <td>130.15</td>\n",
       "      <td>130.510</td>\n",
       "      <td>12002</td>\n",
       "      <td>3183.66</td>\n",
       "      <td>3189.98</td>\n",
       "      <td>3183.66</td>\n",
       "      <td>3184.015</td>\n",
       "      <td>731.0</td>\n",
       "      <td>...</td>\n",
       "      <td>521.440</td>\n",
       "      <td>522.260</td>\n",
       "      <td>521.37</td>\n",
       "      <td>522.240</td>\n",
       "      <td>1039.0</td>\n",
       "      <td>719.97</td>\n",
       "      <td>724.220</td>\n",
       "      <td>719.97</td>\n",
       "      <td>724.22</td>\n",
       "      <td>8581.0</td>\n",
       "    </tr>\n",
       "  </tbody>\n",
       "</table>\n",
       "<p>5 rows × 35 columns</p>\n",
       "</div>"
      ],
      "text/plain": [
       "                             AAPL                                      AMZN  \\\n",
       "                             open     high     low    close volume     open   \n",
       "2021-01-05 09:30:00-05:00  128.96  129.485  128.45  129.485  51887  3166.80   \n",
       "2021-01-05 09:31:00-05:00  129.48  130.170  129.30  130.060  44188  3173.59   \n",
       "2021-01-05 09:32:00-05:00  130.17  130.320  129.93  130.020  12852  3175.00   \n",
       "2021-01-05 09:33:00-05:00  130.09  130.140  129.78  130.120  14192  3181.52   \n",
       "2021-01-05 09:34:00-05:00  130.15  130.580  130.15  130.510  12002  3183.66   \n",
       "\n",
       "                                                               ...     NFLX  \\\n",
       "                              high      low     close  volume  ...     open   \n",
       "2021-01-05 09:30:00-05:00  3173.53  3166.80  3172.980  1963.0  ...  521.980   \n",
       "2021-01-05 09:31:00-05:00  3182.67  3173.58  3177.810  1266.0  ...  520.920   \n",
       "2021-01-05 09:32:00-05:00  3175.47  3174.91  3175.470   778.0  ...  522.355   \n",
       "2021-01-05 09:33:00-05:00  3181.52  3177.87  3179.360   660.0  ...  520.840   \n",
       "2021-01-05 09:34:00-05:00  3189.98  3183.66  3184.015   731.0  ...  521.440   \n",
       "\n",
       "                                                               TSLA           \\\n",
       "                              high     low    close  volume    open     high   \n",
       "2021-01-05 09:30:00-05:00  521.980  520.77  521.030  1355.0  723.66  726.280   \n",
       "2021-01-05 09:31:00-05:00  521.755  520.92  521.365  1112.0  726.60  726.999   \n",
       "2021-01-05 09:32:00-05:00  522.355  520.77  520.770  1347.0  723.10  723.100   \n",
       "2021-01-05 09:33:00-05:00  520.840  520.00  520.000  1582.0  720.53  722.710   \n",
       "2021-01-05 09:34:00-05:00  522.260  521.37  522.240  1039.0  719.97  724.220   \n",
       "\n",
       "                                                    \n",
       "                              low   close   volume  \n",
       "2021-01-05 09:30:00-05:00  721.35  725.23  18284.0  \n",
       "2021-01-05 09:31:00-05:00  722.42  723.00   7760.0  \n",
       "2021-01-05 09:32:00-05:00  719.78  720.57   9902.0  \n",
       "2021-01-05 09:33:00-05:00  719.22  719.71   7086.0  \n",
       "2021-01-05 09:34:00-05:00  719.97  724.22   8581.0  \n",
       "\n",
       "[5 rows x 35 columns]"
      ]
     },
     "execution_count": 46,
     "metadata": {},
     "output_type": "execute_result"
    }
   ],
   "source": [
    "# Pull prices from the ALPACA API\n",
    "prices = alpaca.get_barset(ticker, timeframe,limit=1000, start=start, end=end).df\n",
    "prices.head()"
   ]
  },
  {
   "cell_type": "markdown",
   "metadata": {},
   "source": [
    "#### 3. Store only the close prices from the `prices` DataFrame in a new DataFrame called `df_closing_prices`, then view the head and tail to confirm the following:\n",
    "* First price for each stock on the open at 9:30 Eastern Time.\n",
    "* Last price for the day on the close at 3:59 pm Eastern Time."
   ]
  },
  {
   "cell_type": "code",
   "execution_count": 47,
   "metadata": {},
   "outputs": [],
   "source": [
    "# Create an empty DataFrame for closing prices\n",
    "df_closing_prices=pd.DataFrame()\n",
    "# Fetch the closing prices for each one of the tickers and store in a column in df_closing_prices amed after that ticker\n",
    "df_closing_prices[\"FB\"] = prices[\"FB\"][\"close\"]\n",
    "df_closing_prices[\"AMZN\"] = prices[\"AMZN\"][\"close\"]\n",
    "df_closing_prices[\"AAPL\"] = prices[\"AAPL\"][\"close\"]\n",
    "df_closing_prices[\"NFLX\"] = prices[\"NFLX\"][\"close\"]\n",
    "df_closing_prices[\"GOOGL\"] = prices[\"GOOGL\"][\"close\"]\n",
    "df_closing_prices[\"MSFT\"] = prices[\"MSFT\"][\"close\"]\n",
    "df_closing_prices[\"TSLA\"] = prices[\"TSLA\"][\"close\"]\n"
   ]
  },
  {
   "cell_type": "code",
   "execution_count": 48,
   "metadata": {},
   "outputs": [
    {
     "data": {
      "text/html": [
       "<div>\n",
       "<style scoped>\n",
       "    .dataframe tbody tr th:only-of-type {\n",
       "        vertical-align: middle;\n",
       "    }\n",
       "\n",
       "    .dataframe tbody tr th {\n",
       "        vertical-align: top;\n",
       "    }\n",
       "\n",
       "    .dataframe thead th {\n",
       "        text-align: right;\n",
       "    }\n",
       "</style>\n",
       "<table border=\"1\" class=\"dataframe\">\n",
       "  <thead>\n",
       "    <tr style=\"text-align: right;\">\n",
       "      <th></th>\n",
       "      <th>FB</th>\n",
       "      <th>AMZN</th>\n",
       "      <th>AAPL</th>\n",
       "      <th>NFLX</th>\n",
       "      <th>GOOGL</th>\n",
       "      <th>MSFT</th>\n",
       "      <th>TSLA</th>\n",
       "    </tr>\n",
       "  </thead>\n",
       "  <tbody>\n",
       "    <tr>\n",
       "      <th>2021-01-05 09:30:00-05:00</th>\n",
       "      <td>269.00</td>\n",
       "      <td>3172.980</td>\n",
       "      <td>129.485</td>\n",
       "      <td>521.030</td>\n",
       "      <td>1724.17</td>\n",
       "      <td>217.65</td>\n",
       "      <td>725.23</td>\n",
       "    </tr>\n",
       "    <tr>\n",
       "      <th>2021-01-05 09:31:00-05:00</th>\n",
       "      <td>269.17</td>\n",
       "      <td>3177.810</td>\n",
       "      <td>130.060</td>\n",
       "      <td>521.365</td>\n",
       "      <td>1724.05</td>\n",
       "      <td>217.63</td>\n",
       "      <td>723.00</td>\n",
       "    </tr>\n",
       "    <tr>\n",
       "      <th>2021-01-05 09:32:00-05:00</th>\n",
       "      <td>269.72</td>\n",
       "      <td>3175.470</td>\n",
       "      <td>130.020</td>\n",
       "      <td>520.770</td>\n",
       "      <td>1721.61</td>\n",
       "      <td>217.77</td>\n",
       "      <td>720.57</td>\n",
       "    </tr>\n",
       "    <tr>\n",
       "      <th>2021-01-05 09:33:00-05:00</th>\n",
       "      <td>268.80</td>\n",
       "      <td>3179.360</td>\n",
       "      <td>130.120</td>\n",
       "      <td>520.000</td>\n",
       "      <td>NaN</td>\n",
       "      <td>217.72</td>\n",
       "      <td>719.71</td>\n",
       "    </tr>\n",
       "    <tr>\n",
       "      <th>2021-01-05 09:34:00-05:00</th>\n",
       "      <td>269.58</td>\n",
       "      <td>3184.015</td>\n",
       "      <td>130.510</td>\n",
       "      <td>522.240</td>\n",
       "      <td>1720.30</td>\n",
       "      <td>217.31</td>\n",
       "      <td>724.22</td>\n",
       "    </tr>\n",
       "  </tbody>\n",
       "</table>\n",
       "</div>"
      ],
      "text/plain": [
       "                               FB      AMZN     AAPL     NFLX    GOOGL  \\\n",
       "2021-01-05 09:30:00-05:00  269.00  3172.980  129.485  521.030  1724.17   \n",
       "2021-01-05 09:31:00-05:00  269.17  3177.810  130.060  521.365  1724.05   \n",
       "2021-01-05 09:32:00-05:00  269.72  3175.470  130.020  520.770  1721.61   \n",
       "2021-01-05 09:33:00-05:00  268.80  3179.360  130.120  520.000      NaN   \n",
       "2021-01-05 09:34:00-05:00  269.58  3184.015  130.510  522.240  1720.30   \n",
       "\n",
       "                             MSFT    TSLA  \n",
       "2021-01-05 09:30:00-05:00  217.65  725.23  \n",
       "2021-01-05 09:31:00-05:00  217.63  723.00  \n",
       "2021-01-05 09:32:00-05:00  217.77  720.57  \n",
       "2021-01-05 09:33:00-05:00  217.72  719.71  \n",
       "2021-01-05 09:34:00-05:00  217.31  724.22  "
      ]
     },
     "execution_count": 48,
     "metadata": {},
     "output_type": "execute_result"
    }
   ],
   "source": [
    "# Preview first five rows\n",
    "df_closing_prices.head()"
   ]
  },
  {
   "cell_type": "code",
   "execution_count": 49,
   "metadata": {},
   "outputs": [
    {
     "data": {
      "text/html": [
       "<div>\n",
       "<style scoped>\n",
       "    .dataframe tbody tr th:only-of-type {\n",
       "        vertical-align: middle;\n",
       "    }\n",
       "\n",
       "    .dataframe tbody tr th {\n",
       "        vertical-align: top;\n",
       "    }\n",
       "\n",
       "    .dataframe thead th {\n",
       "        text-align: right;\n",
       "    }\n",
       "</style>\n",
       "<table border=\"1\" class=\"dataframe\">\n",
       "  <thead>\n",
       "    <tr style=\"text-align: right;\">\n",
       "      <th></th>\n",
       "      <th>FB</th>\n",
       "      <th>AMZN</th>\n",
       "      <th>AAPL</th>\n",
       "      <th>NFLX</th>\n",
       "      <th>GOOGL</th>\n",
       "      <th>MSFT</th>\n",
       "      <th>TSLA</th>\n",
       "    </tr>\n",
       "  </thead>\n",
       "  <tbody>\n",
       "    <tr>\n",
       "      <th>2021-01-05 15:56:00-05:00</th>\n",
       "      <td>270.65</td>\n",
       "      <td>3219.84</td>\n",
       "      <td>130.850</td>\n",
       "      <td>519.57</td>\n",
       "      <td>1738.15</td>\n",
       "      <td>217.970</td>\n",
       "      <td>733.00</td>\n",
       "    </tr>\n",
       "    <tr>\n",
       "      <th>2021-01-05 15:57:00-05:00</th>\n",
       "      <td>270.91</td>\n",
       "      <td>3222.70</td>\n",
       "      <td>131.010</td>\n",
       "      <td>520.46</td>\n",
       "      <td>1738.99</td>\n",
       "      <td>218.175</td>\n",
       "      <td>734.49</td>\n",
       "    </tr>\n",
       "    <tr>\n",
       "      <th>2021-01-05 15:58:00-05:00</th>\n",
       "      <td>270.88</td>\n",
       "      <td>3221.18</td>\n",
       "      <td>130.990</td>\n",
       "      <td>520.30</td>\n",
       "      <td>1738.84</td>\n",
       "      <td>218.150</td>\n",
       "      <td>734.83</td>\n",
       "    </tr>\n",
       "    <tr>\n",
       "      <th>2021-01-05 15:59:00-05:00</th>\n",
       "      <td>270.86</td>\n",
       "      <td>3219.67</td>\n",
       "      <td>130.965</td>\n",
       "      <td>520.76</td>\n",
       "      <td>1740.57</td>\n",
       "      <td>218.000</td>\n",
       "      <td>735.33</td>\n",
       "    </tr>\n",
       "    <tr>\n",
       "      <th>2021-01-05 16:00:00-05:00</th>\n",
       "      <td>NaN</td>\n",
       "      <td>NaN</td>\n",
       "      <td>131.140</td>\n",
       "      <td>NaN</td>\n",
       "      <td>NaN</td>\n",
       "      <td>NaN</td>\n",
       "      <td>NaN</td>\n",
       "    </tr>\n",
       "  </tbody>\n",
       "</table>\n",
       "</div>"
      ],
      "text/plain": [
       "                               FB     AMZN     AAPL    NFLX    GOOGL     MSFT  \\\n",
       "2021-01-05 15:56:00-05:00  270.65  3219.84  130.850  519.57  1738.15  217.970   \n",
       "2021-01-05 15:57:00-05:00  270.91  3222.70  131.010  520.46  1738.99  218.175   \n",
       "2021-01-05 15:58:00-05:00  270.88  3221.18  130.990  520.30  1738.84  218.150   \n",
       "2021-01-05 15:59:00-05:00  270.86  3219.67  130.965  520.76  1740.57  218.000   \n",
       "2021-01-05 16:00:00-05:00     NaN      NaN  131.140     NaN      NaN      NaN   \n",
       "\n",
       "                             TSLA  \n",
       "2021-01-05 15:56:00-05:00  733.00  \n",
       "2021-01-05 15:57:00-05:00  734.49  \n",
       "2021-01-05 15:58:00-05:00  734.83  \n",
       "2021-01-05 15:59:00-05:00  735.33  \n",
       "2021-01-05 16:00:00-05:00     NaN  "
      ]
     },
     "execution_count": 49,
     "metadata": {},
     "output_type": "execute_result"
    }
   ],
   "source": [
    "# Preview last five rows\n",
    "df_closing_prices.tail()"
   ]
  },
  {
   "cell_type": "markdown",
   "metadata": {},
   "source": [
    "#### 4. When viewing the head and tail, you'll notice several `NaN` values.\n",
    "* Alpaca reports `NaN` for minutes without any trades occuring as missing.\n",
    "* These values must be removed, we use Panda's `ffill()` function to \"forward fill\", or replace, those prices with the previous values (since the price has not changed).\n"
   ]
  },
  {
   "cell_type": "code",
   "execution_count": 50,
   "metadata": {},
   "outputs": [
    {
     "data": {
      "text/html": [
       "<div>\n",
       "<style scoped>\n",
       "    .dataframe tbody tr th:only-of-type {\n",
       "        vertical-align: middle;\n",
       "    }\n",
       "\n",
       "    .dataframe tbody tr th {\n",
       "        vertical-align: top;\n",
       "    }\n",
       "\n",
       "    .dataframe thead th {\n",
       "        text-align: right;\n",
       "    }\n",
       "</style>\n",
       "<table border=\"1\" class=\"dataframe\">\n",
       "  <thead>\n",
       "    <tr style=\"text-align: right;\">\n",
       "      <th></th>\n",
       "      <th>FB</th>\n",
       "      <th>AMZN</th>\n",
       "      <th>AAPL</th>\n",
       "      <th>NFLX</th>\n",
       "      <th>GOOGL</th>\n",
       "      <th>MSFT</th>\n",
       "      <th>TSLA</th>\n",
       "    </tr>\n",
       "  </thead>\n",
       "  <tbody>\n",
       "    <tr>\n",
       "      <th>2021-01-05 09:30:00-05:00</th>\n",
       "      <td>269.00</td>\n",
       "      <td>3172.980</td>\n",
       "      <td>129.485</td>\n",
       "      <td>521.030</td>\n",
       "      <td>1724.17</td>\n",
       "      <td>217.65</td>\n",
       "      <td>725.23</td>\n",
       "    </tr>\n",
       "    <tr>\n",
       "      <th>2021-01-05 09:31:00-05:00</th>\n",
       "      <td>269.17</td>\n",
       "      <td>3177.810</td>\n",
       "      <td>130.060</td>\n",
       "      <td>521.365</td>\n",
       "      <td>1724.05</td>\n",
       "      <td>217.63</td>\n",
       "      <td>723.00</td>\n",
       "    </tr>\n",
       "    <tr>\n",
       "      <th>2021-01-05 09:32:00-05:00</th>\n",
       "      <td>269.72</td>\n",
       "      <td>3175.470</td>\n",
       "      <td>130.020</td>\n",
       "      <td>520.770</td>\n",
       "      <td>1721.61</td>\n",
       "      <td>217.77</td>\n",
       "      <td>720.57</td>\n",
       "    </tr>\n",
       "    <tr>\n",
       "      <th>2021-01-05 09:33:00-05:00</th>\n",
       "      <td>268.80</td>\n",
       "      <td>3179.360</td>\n",
       "      <td>130.120</td>\n",
       "      <td>520.000</td>\n",
       "      <td>1721.61</td>\n",
       "      <td>217.72</td>\n",
       "      <td>719.71</td>\n",
       "    </tr>\n",
       "    <tr>\n",
       "      <th>2021-01-05 09:34:00-05:00</th>\n",
       "      <td>269.58</td>\n",
       "      <td>3184.015</td>\n",
       "      <td>130.510</td>\n",
       "      <td>522.240</td>\n",
       "      <td>1720.30</td>\n",
       "      <td>217.31</td>\n",
       "      <td>724.22</td>\n",
       "    </tr>\n",
       "  </tbody>\n",
       "</table>\n",
       "</div>"
      ],
      "text/plain": [
       "                               FB      AMZN     AAPL     NFLX    GOOGL  \\\n",
       "2021-01-05 09:30:00-05:00  269.00  3172.980  129.485  521.030  1724.17   \n",
       "2021-01-05 09:31:00-05:00  269.17  3177.810  130.060  521.365  1724.05   \n",
       "2021-01-05 09:32:00-05:00  269.72  3175.470  130.020  520.770  1721.61   \n",
       "2021-01-05 09:33:00-05:00  268.80  3179.360  130.120  520.000  1721.61   \n",
       "2021-01-05 09:34:00-05:00  269.58  3184.015  130.510  522.240  1720.30   \n",
       "\n",
       "                             MSFT    TSLA  \n",
       "2021-01-05 09:30:00-05:00  217.65  725.23  \n",
       "2021-01-05 09:31:00-05:00  217.63  723.00  \n",
       "2021-01-05 09:32:00-05:00  217.77  720.57  \n",
       "2021-01-05 09:33:00-05:00  217.72  719.71  \n",
       "2021-01-05 09:34:00-05:00  217.31  724.22  "
      ]
     },
     "execution_count": 50,
     "metadata": {},
     "output_type": "execute_result"
    }
   ],
   "source": [
    "# Use Pandas' forward fill function to fill missing values (be sure to set inplace=True)\n",
    "df_closing_prices.ffill(inplace=True)\n",
    "df_closing_prices.head()"
   ]
  },
  {
   "cell_type": "markdown",
   "metadata": {},
   "source": [
    "### Computing Returns"
   ]
  },
  {
   "cell_type": "markdown",
   "metadata": {},
   "source": [
    "# 1. Compute the percentage change values for 1 minute as follows:\n",
    "* Create a variable called `forecast` to hold the forecast, in this case `1` for 1 minute.\n",
    "* Use the `pct_change` function, passing in the `forecast`, on the `df_closing_prices` DataFrame, storeing the newly generated DataFrame in a variable called `returns`.\n",
    "* Convert the `returns` DataFrame to show forward returns by passing `-(forecast)` into the `shift` function."
   ]
  },
  {
   "cell_type": "code",
   "execution_count": 51,
   "metadata": {},
   "outputs": [
    {
     "data": {
      "text/html": [
       "<div>\n",
       "<style scoped>\n",
       "    .dataframe tbody tr th:only-of-type {\n",
       "        vertical-align: middle;\n",
       "    }\n",
       "\n",
       "    .dataframe tbody tr th {\n",
       "        vertical-align: top;\n",
       "    }\n",
       "\n",
       "    .dataframe thead th {\n",
       "        text-align: right;\n",
       "    }\n",
       "</style>\n",
       "<table border=\"1\" class=\"dataframe\">\n",
       "  <thead>\n",
       "    <tr style=\"text-align: right;\">\n",
       "      <th></th>\n",
       "      <th>FB</th>\n",
       "      <th>AMZN</th>\n",
       "      <th>AAPL</th>\n",
       "      <th>NFLX</th>\n",
       "      <th>GOOGL</th>\n",
       "      <th>MSFT</th>\n",
       "      <th>TSLA</th>\n",
       "    </tr>\n",
       "  </thead>\n",
       "  <tbody>\n",
       "    <tr>\n",
       "      <th>2021-01-05 09:30:00-05:00</th>\n",
       "      <td>0.000632</td>\n",
       "      <td>0.001522</td>\n",
       "      <td>0.004441</td>\n",
       "      <td>0.000643</td>\n",
       "      <td>-0.000070</td>\n",
       "      <td>-0.000092</td>\n",
       "      <td>-0.003075</td>\n",
       "    </tr>\n",
       "    <tr>\n",
       "      <th>2021-01-05 09:31:00-05:00</th>\n",
       "      <td>0.002043</td>\n",
       "      <td>-0.000736</td>\n",
       "      <td>-0.000308</td>\n",
       "      <td>-0.001141</td>\n",
       "      <td>-0.001415</td>\n",
       "      <td>0.000643</td>\n",
       "      <td>-0.003361</td>\n",
       "    </tr>\n",
       "    <tr>\n",
       "      <th>2021-01-05 09:32:00-05:00</th>\n",
       "      <td>-0.003411</td>\n",
       "      <td>0.001225</td>\n",
       "      <td>0.000769</td>\n",
       "      <td>-0.001479</td>\n",
       "      <td>0.000000</td>\n",
       "      <td>-0.000230</td>\n",
       "      <td>-0.001193</td>\n",
       "    </tr>\n",
       "    <tr>\n",
       "      <th>2021-01-05 09:33:00-05:00</th>\n",
       "      <td>0.002902</td>\n",
       "      <td>0.001464</td>\n",
       "      <td>0.002997</td>\n",
       "      <td>0.004308</td>\n",
       "      <td>-0.000761</td>\n",
       "      <td>-0.001883</td>\n",
       "      <td>0.006266</td>\n",
       "    </tr>\n",
       "    <tr>\n",
       "      <th>2021-01-05 09:34:00-05:00</th>\n",
       "      <td>0.001335</td>\n",
       "      <td>0.002074</td>\n",
       "      <td>0.000651</td>\n",
       "      <td>-0.001704</td>\n",
       "      <td>0.003061</td>\n",
       "      <td>-0.001703</td>\n",
       "      <td>0.004667</td>\n",
       "    </tr>\n",
       "  </tbody>\n",
       "</table>\n",
       "</div>"
      ],
      "text/plain": [
       "                                 FB      AMZN      AAPL      NFLX     GOOGL  \\\n",
       "2021-01-05 09:30:00-05:00  0.000632  0.001522  0.004441  0.000643 -0.000070   \n",
       "2021-01-05 09:31:00-05:00  0.002043 -0.000736 -0.000308 -0.001141 -0.001415   \n",
       "2021-01-05 09:32:00-05:00 -0.003411  0.001225  0.000769 -0.001479  0.000000   \n",
       "2021-01-05 09:33:00-05:00  0.002902  0.001464  0.002997  0.004308 -0.000761   \n",
       "2021-01-05 09:34:00-05:00  0.001335  0.002074  0.000651 -0.001704  0.003061   \n",
       "\n",
       "                               MSFT      TSLA  \n",
       "2021-01-05 09:30:00-05:00 -0.000092 -0.003075  \n",
       "2021-01-05 09:31:00-05:00  0.000643 -0.003361  \n",
       "2021-01-05 09:32:00-05:00 -0.000230 -0.001193  \n",
       "2021-01-05 09:33:00-05:00 -0.001883  0.006266  \n",
       "2021-01-05 09:34:00-05:00 -0.001703  0.004667  "
      ]
     },
     "execution_count": 51,
     "metadata": {},
     "output_type": "execute_result"
    }
   ],
   "source": [
    "# Define a variable to set prediction period\n",
    "forecast = 1\n",
    "# Compute the pct_change for 1 min \n",
    "returns = df_closing_prices.pct_change(forecast)\n",
    "# Shift the returns to convert them to forward returns\n",
    "returns = returns.shift(-(forecast))\n",
    "# Preview the DataFrame\n",
    "returns.head()"
   ]
  },
  {
   "cell_type": "markdown",
   "metadata": {},
   "source": [
    "##### Note: \n",
    "> You can verify these returns are computed correctly by analyzing the first observation for Facebook:\n",
    "> * 9:30 am for 0.000632.\n",
    " \n",
    "> How is that number computed? \n",
    " \n",
    "> * The price of Facebook at 9:30 is 269.00\n",
    "> * The price of Facebook at 9:31 is 269.17\n",
    "\n",
    "> Which gives you:\n",
    "\n",
    "> * (269.17 - \t269.00)/ 269.90 = 0.000632\n",
    " "
   ]
  },
  {
   "cell_type": "markdown",
   "metadata": {},
   "source": [
    "#### 2. Convert the DataFrame into long form for merging later using `unstack` and `reset_index`."
   ]
  },
  {
   "cell_type": "code",
   "execution_count": 52,
   "metadata": {},
   "outputs": [],
   "source": [
    "# Use unstack() to bring the data in long format and save the output as a dataframe\n",
    "returns = pd.DataFrame(returns.unstack())\n",
    "# Rename the column to make it easer to identify it:\n",
    "name = f'F_{forecast}_m_returns'\n",
    "returns.rename(columns={0: name}, inplace = True)\n",
    "# Reset the index of the dataframe for merging later (be sure to set inplace=True)\n",
    "returns.reset_index(inplace=True)"
   ]
  },
  {
   "cell_type": "code",
   "execution_count": 53,
   "metadata": {},
   "outputs": [
    {
     "data": {
      "text/html": [
       "<div>\n",
       "<style scoped>\n",
       "    .dataframe tbody tr th:only-of-type {\n",
       "        vertical-align: middle;\n",
       "    }\n",
       "\n",
       "    .dataframe tbody tr th {\n",
       "        vertical-align: top;\n",
       "    }\n",
       "\n",
       "    .dataframe thead th {\n",
       "        text-align: right;\n",
       "    }\n",
       "</style>\n",
       "<table border=\"1\" class=\"dataframe\">\n",
       "  <thead>\n",
       "    <tr style=\"text-align: right;\">\n",
       "      <th></th>\n",
       "      <th>level_0</th>\n",
       "      <th>level_1</th>\n",
       "      <th>F_1_m_returns</th>\n",
       "    </tr>\n",
       "  </thead>\n",
       "  <tbody>\n",
       "    <tr>\n",
       "      <th>0</th>\n",
       "      <td>FB</td>\n",
       "      <td>2021-01-05 09:30:00-05:00</td>\n",
       "      <td>0.000632</td>\n",
       "    </tr>\n",
       "    <tr>\n",
       "      <th>1</th>\n",
       "      <td>FB</td>\n",
       "      <td>2021-01-05 09:31:00-05:00</td>\n",
       "      <td>0.002043</td>\n",
       "    </tr>\n",
       "    <tr>\n",
       "      <th>2</th>\n",
       "      <td>FB</td>\n",
       "      <td>2021-01-05 09:32:00-05:00</td>\n",
       "      <td>-0.003411</td>\n",
       "    </tr>\n",
       "    <tr>\n",
       "      <th>3</th>\n",
       "      <td>FB</td>\n",
       "      <td>2021-01-05 09:33:00-05:00</td>\n",
       "      <td>0.002902</td>\n",
       "    </tr>\n",
       "    <tr>\n",
       "      <th>4</th>\n",
       "      <td>FB</td>\n",
       "      <td>2021-01-05 09:34:00-05:00</td>\n",
       "      <td>0.001335</td>\n",
       "    </tr>\n",
       "  </tbody>\n",
       "</table>\n",
       "</div>"
      ],
      "text/plain": [
       "  level_0                   level_1  F_1_m_returns\n",
       "0      FB 2021-01-05 09:30:00-05:00       0.000632\n",
       "1      FB 2021-01-05 09:31:00-05:00       0.002043\n",
       "2      FB 2021-01-05 09:32:00-05:00      -0.003411\n",
       "3      FB 2021-01-05 09:33:00-05:00       0.002902\n",
       "4      FB 2021-01-05 09:34:00-05:00       0.001335"
      ]
     },
     "execution_count": 53,
     "metadata": {},
     "output_type": "execute_result"
    }
   ],
   "source": [
    "# Preview the first five rows\n",
    "returns.head()"
   ]
  },
  {
   "cell_type": "code",
   "execution_count": 54,
   "metadata": {},
   "outputs": [
    {
     "data": {
      "text/html": [
       "<div>\n",
       "<style scoped>\n",
       "    .dataframe tbody tr th:only-of-type {\n",
       "        vertical-align: middle;\n",
       "    }\n",
       "\n",
       "    .dataframe tbody tr th {\n",
       "        vertical-align: top;\n",
       "    }\n",
       "\n",
       "    .dataframe thead th {\n",
       "        text-align: right;\n",
       "    }\n",
       "</style>\n",
       "<table border=\"1\" class=\"dataframe\">\n",
       "  <thead>\n",
       "    <tr style=\"text-align: right;\">\n",
       "      <th></th>\n",
       "      <th>level_0</th>\n",
       "      <th>level_1</th>\n",
       "      <th>F_1_m_returns</th>\n",
       "    </tr>\n",
       "  </thead>\n",
       "  <tbody>\n",
       "    <tr>\n",
       "      <th>2732</th>\n",
       "      <td>TSLA</td>\n",
       "      <td>2021-01-05 15:56:00-05:00</td>\n",
       "      <td>0.002033</td>\n",
       "    </tr>\n",
       "    <tr>\n",
       "      <th>2733</th>\n",
       "      <td>TSLA</td>\n",
       "      <td>2021-01-05 15:57:00-05:00</td>\n",
       "      <td>0.000463</td>\n",
       "    </tr>\n",
       "    <tr>\n",
       "      <th>2734</th>\n",
       "      <td>TSLA</td>\n",
       "      <td>2021-01-05 15:58:00-05:00</td>\n",
       "      <td>0.000680</td>\n",
       "    </tr>\n",
       "    <tr>\n",
       "      <th>2735</th>\n",
       "      <td>TSLA</td>\n",
       "      <td>2021-01-05 15:59:00-05:00</td>\n",
       "      <td>0.000000</td>\n",
       "    </tr>\n",
       "    <tr>\n",
       "      <th>2736</th>\n",
       "      <td>TSLA</td>\n",
       "      <td>2021-01-05 16:00:00-05:00</td>\n",
       "      <td>NaN</td>\n",
       "    </tr>\n",
       "  </tbody>\n",
       "</table>\n",
       "</div>"
      ],
      "text/plain": [
       "     level_0                   level_1  F_1_m_returns\n",
       "2732    TSLA 2021-01-05 15:56:00-05:00       0.002033\n",
       "2733    TSLA 2021-01-05 15:57:00-05:00       0.000463\n",
       "2734    TSLA 2021-01-05 15:58:00-05:00       0.000680\n",
       "2735    TSLA 2021-01-05 15:59:00-05:00       0.000000\n",
       "2736    TSLA 2021-01-05 16:00:00-05:00            NaN"
      ]
     },
     "execution_count": 54,
     "metadata": {},
     "output_type": "execute_result"
    }
   ],
   "source": [
    "# Preview the last five rows\n",
    "returns.tail()"
   ]
  },
  {
   "cell_type": "markdown",
   "metadata": {},
   "source": [
    "#### 3. Compute the 1, 5, 10 minute momentums that will be used to predict the forward returns, then merge them with the forward returns as follows:\n",
    "* Create the list of moments: `list_of_momentums = [1,5,10]`.\n",
    "* Write a for-loop to loop through the `list_of_momentums`, applying them to `pct_change` with the `df_closing_price` with each iteration.\n",
    "* With each loop, the data temporary DataFrame, `returns_temp` will need to be prepped with `unstack` and `reset_index`, then added as a new column to the original `returns` DataFrame from the prior step.\n",
    "* Complete this step by dropping the null values from `returns` and creating a multi-index based on date and ticker."
   ]
  },
  {
   "cell_type": "code",
   "execution_count": 55,
   "metadata": {},
   "outputs": [],
   "source": [
    "# Create list of momentums that we want to predict\n",
    "list_of_momentums = [1,5,10]\n",
    "for i in list_of_momentums:   \n",
    "    # Compute percentage change for each one of the momentums in the momentum list\n",
    "    returns_temp = df_closing_prices.pct_change(i)\n",
    "    # Unstack the returns and save the output as as dataframe called returns_temp \n",
    "    returns_temp = pd.DataFrame(returns_temp.unstack())\n",
    "    # Rename the column to make it easer to identify it:\n",
    "    name = f'{i}_m_returns'\n",
    "    returns_temp.rename(columns={0: name}, inplace = True)\n",
    "    # Reset the index so we can merge based on index\n",
    "    returns_temp.reset_index(inplace=True)\n",
    "    # Merge returns_temp  with the original returns \n",
    "    returns = pd.merge(returns,returns_temp,left_on=['level_0', 'level_1'],right_on=['level_0', 'level_1'], how='left')#, suffixes=('_original', 'right'))"
   ]
  },
  {
   "cell_type": "code",
   "execution_count": 56,
   "metadata": {},
   "outputs": [
    {
     "data": {
      "text/html": [
       "<div>\n",
       "<style scoped>\n",
       "    .dataframe tbody tr th:only-of-type {\n",
       "        vertical-align: middle;\n",
       "    }\n",
       "\n",
       "    .dataframe tbody tr th {\n",
       "        vertical-align: top;\n",
       "    }\n",
       "\n",
       "    .dataframe thead th {\n",
       "        text-align: right;\n",
       "    }\n",
       "</style>\n",
       "<table border=\"1\" class=\"dataframe\">\n",
       "  <thead>\n",
       "    <tr style=\"text-align: right;\">\n",
       "      <th></th>\n",
       "      <th>level_0</th>\n",
       "      <th>level_1</th>\n",
       "      <th>F_1_m_returns</th>\n",
       "      <th>1_m_returns</th>\n",
       "      <th>5_m_returns</th>\n",
       "      <th>10_m_returns</th>\n",
       "    </tr>\n",
       "  </thead>\n",
       "  <tbody>\n",
       "    <tr>\n",
       "      <th>0</th>\n",
       "      <td>FB</td>\n",
       "      <td>2021-01-05 09:30:00-05:00</td>\n",
       "      <td>0.000632</td>\n",
       "      <td>NaN</td>\n",
       "      <td>NaN</td>\n",
       "      <td>NaN</td>\n",
       "    </tr>\n",
       "    <tr>\n",
       "      <th>1</th>\n",
       "      <td>FB</td>\n",
       "      <td>2021-01-05 09:31:00-05:00</td>\n",
       "      <td>0.002043</td>\n",
       "      <td>0.000632</td>\n",
       "      <td>NaN</td>\n",
       "      <td>NaN</td>\n",
       "    </tr>\n",
       "    <tr>\n",
       "      <th>2</th>\n",
       "      <td>FB</td>\n",
       "      <td>2021-01-05 09:32:00-05:00</td>\n",
       "      <td>-0.003411</td>\n",
       "      <td>0.002043</td>\n",
       "      <td>NaN</td>\n",
       "      <td>NaN</td>\n",
       "    </tr>\n",
       "    <tr>\n",
       "      <th>3</th>\n",
       "      <td>FB</td>\n",
       "      <td>2021-01-05 09:33:00-05:00</td>\n",
       "      <td>0.002902</td>\n",
       "      <td>-0.003411</td>\n",
       "      <td>NaN</td>\n",
       "      <td>NaN</td>\n",
       "    </tr>\n",
       "    <tr>\n",
       "      <th>4</th>\n",
       "      <td>FB</td>\n",
       "      <td>2021-01-05 09:34:00-05:00</td>\n",
       "      <td>0.001335</td>\n",
       "      <td>0.002902</td>\n",
       "      <td>NaN</td>\n",
       "      <td>NaN</td>\n",
       "    </tr>\n",
       "    <tr>\n",
       "      <th>5</th>\n",
       "      <td>FB</td>\n",
       "      <td>2021-01-05 09:35:00-05:00</td>\n",
       "      <td>0.000185</td>\n",
       "      <td>0.001335</td>\n",
       "      <td>0.003494</td>\n",
       "      <td>NaN</td>\n",
       "    </tr>\n",
       "    <tr>\n",
       "      <th>6</th>\n",
       "      <td>FB</td>\n",
       "      <td>2021-01-05 09:36:00-05:00</td>\n",
       "      <td>0.000778</td>\n",
       "      <td>0.000185</td>\n",
       "      <td>0.003046</td>\n",
       "      <td>NaN</td>\n",
       "    </tr>\n",
       "    <tr>\n",
       "      <th>7</th>\n",
       "      <td>FB</td>\n",
       "      <td>2021-01-05 09:37:00-05:00</td>\n",
       "      <td>-0.000777</td>\n",
       "      <td>0.000778</td>\n",
       "      <td>0.001780</td>\n",
       "      <td>NaN</td>\n",
       "    </tr>\n",
       "    <tr>\n",
       "      <th>8</th>\n",
       "      <td>FB</td>\n",
       "      <td>2021-01-05 09:38:00-05:00</td>\n",
       "      <td>0.001000</td>\n",
       "      <td>-0.000777</td>\n",
       "      <td>0.004427</td>\n",
       "      <td>NaN</td>\n",
       "    </tr>\n",
       "    <tr>\n",
       "      <th>9</th>\n",
       "      <td>FB</td>\n",
       "      <td>2021-01-05 09:39:00-05:00</td>\n",
       "      <td>0.000074</td>\n",
       "      <td>0.001000</td>\n",
       "      <td>0.002522</td>\n",
       "      <td>NaN</td>\n",
       "    </tr>\n",
       "    <tr>\n",
       "      <th>10</th>\n",
       "      <td>FB</td>\n",
       "      <td>2021-01-05 09:40:00-05:00</td>\n",
       "      <td>0.000814</td>\n",
       "      <td>0.000074</td>\n",
       "      <td>0.001260</td>\n",
       "      <td>0.004758</td>\n",
       "    </tr>\n",
       "  </tbody>\n",
       "</table>\n",
       "</div>"
      ],
      "text/plain": [
       "   level_0                   level_1  F_1_m_returns  1_m_returns  5_m_returns  \\\n",
       "0       FB 2021-01-05 09:30:00-05:00       0.000632          NaN          NaN   \n",
       "1       FB 2021-01-05 09:31:00-05:00       0.002043     0.000632          NaN   \n",
       "2       FB 2021-01-05 09:32:00-05:00      -0.003411     0.002043          NaN   \n",
       "3       FB 2021-01-05 09:33:00-05:00       0.002902    -0.003411          NaN   \n",
       "4       FB 2021-01-05 09:34:00-05:00       0.001335     0.002902          NaN   \n",
       "5       FB 2021-01-05 09:35:00-05:00       0.000185     0.001335     0.003494   \n",
       "6       FB 2021-01-05 09:36:00-05:00       0.000778     0.000185     0.003046   \n",
       "7       FB 2021-01-05 09:37:00-05:00      -0.000777     0.000778     0.001780   \n",
       "8       FB 2021-01-05 09:38:00-05:00       0.001000    -0.000777     0.004427   \n",
       "9       FB 2021-01-05 09:39:00-05:00       0.000074     0.001000     0.002522   \n",
       "10      FB 2021-01-05 09:40:00-05:00       0.000814     0.000074     0.001260   \n",
       "\n",
       "    10_m_returns  \n",
       "0            NaN  \n",
       "1            NaN  \n",
       "2            NaN  \n",
       "3            NaN  \n",
       "4            NaN  \n",
       "5            NaN  \n",
       "6            NaN  \n",
       "7            NaN  \n",
       "8            NaN  \n",
       "9            NaN  \n",
       "10      0.004758  "
      ]
     },
     "execution_count": 56,
     "metadata": {},
     "output_type": "execute_result"
    }
   ],
   "source": [
    "returns.head(11)"
   ]
  },
  {
   "cell_type": "code",
   "execution_count": 57,
   "metadata": {},
   "outputs": [
    {
     "data": {
      "text/html": [
       "<div>\n",
       "<style scoped>\n",
       "    .dataframe tbody tr th:only-of-type {\n",
       "        vertical-align: middle;\n",
       "    }\n",
       "\n",
       "    .dataframe tbody tr th {\n",
       "        vertical-align: top;\n",
       "    }\n",
       "\n",
       "    .dataframe thead th {\n",
       "        text-align: right;\n",
       "    }\n",
       "</style>\n",
       "<table border=\"1\" class=\"dataframe\">\n",
       "  <thead>\n",
       "    <tr style=\"text-align: right;\">\n",
       "      <th></th>\n",
       "      <th></th>\n",
       "      <th>F_1_m_returns</th>\n",
       "      <th>1_m_returns</th>\n",
       "      <th>5_m_returns</th>\n",
       "      <th>10_m_returns</th>\n",
       "    </tr>\n",
       "    <tr>\n",
       "      <th>level_0</th>\n",
       "      <th>level_1</th>\n",
       "      <th></th>\n",
       "      <th></th>\n",
       "      <th></th>\n",
       "      <th></th>\n",
       "    </tr>\n",
       "  </thead>\n",
       "  <tbody>\n",
       "    <tr>\n",
       "      <th rowspan=\"5\" valign=\"top\">FB</th>\n",
       "      <th>2021-01-05 09:40:00-05:00</th>\n",
       "      <td>0.000814</td>\n",
       "      <td>0.000074</td>\n",
       "      <td>0.001260</td>\n",
       "      <td>0.004758</td>\n",
       "    </tr>\n",
       "    <tr>\n",
       "      <th>2021-01-05 09:41:00-05:00</th>\n",
       "      <td>0.000887</td>\n",
       "      <td>0.000814</td>\n",
       "      <td>0.001889</td>\n",
       "      <td>0.004941</td>\n",
       "    </tr>\n",
       "    <tr>\n",
       "      <th>2021-01-05 09:42:00-05:00</th>\n",
       "      <td>0.000628</td>\n",
       "      <td>0.000887</td>\n",
       "      <td>0.001999</td>\n",
       "      <td>0.003782</td>\n",
       "    </tr>\n",
       "    <tr>\n",
       "      <th>2021-01-05 09:43:00-05:00</th>\n",
       "      <td>0.000480</td>\n",
       "      <td>0.000628</td>\n",
       "      <td>0.003408</td>\n",
       "      <td>0.007850</td>\n",
       "    </tr>\n",
       "    <tr>\n",
       "      <th>2021-01-05 09:44:00-05:00</th>\n",
       "      <td>-0.001291</td>\n",
       "      <td>0.000480</td>\n",
       "      <td>0.002886</td>\n",
       "      <td>0.005416</td>\n",
       "    </tr>\n",
       "  </tbody>\n",
       "</table>\n",
       "</div>"
      ],
      "text/plain": [
       "                                   F_1_m_returns  1_m_returns  5_m_returns  \\\n",
       "level_0 level_1                                                              \n",
       "FB      2021-01-05 09:40:00-05:00       0.000814     0.000074     0.001260   \n",
       "        2021-01-05 09:41:00-05:00       0.000887     0.000814     0.001889   \n",
       "        2021-01-05 09:42:00-05:00       0.000628     0.000887     0.001999   \n",
       "        2021-01-05 09:43:00-05:00       0.000480     0.000628     0.003408   \n",
       "        2021-01-05 09:44:00-05:00      -0.001291     0.000480     0.002886   \n",
       "\n",
       "                                   10_m_returns  \n",
       "level_0 level_1                                  \n",
       "FB      2021-01-05 09:40:00-05:00      0.004758  \n",
       "        2021-01-05 09:41:00-05:00      0.004941  \n",
       "        2021-01-05 09:42:00-05:00      0.003782  \n",
       "        2021-01-05 09:43:00-05:00      0.007850  \n",
       "        2021-01-05 09:44:00-05:00      0.005416  "
      ]
     },
     "execution_count": 57,
     "metadata": {},
     "output_type": "execute_result"
    }
   ],
   "source": [
    "# Use dropna() to get rid of those missing observations.\n",
    "returns = returns.dropna()\n",
    "# Create a multi index based on level_0 and time\n",
    "returns = returns.set_index(['level_0', 'level_1'])\n",
    "returns.head()"
   ]
  },
  {
   "cell_type": "markdown",
   "metadata": {},
   "source": [
    "## Part 2: Train and Compare Multiple Machine Learning Algorithms\n",
    "\n",
    " In this section, you'll train each of the requested algorithms and compare performance. Be sure to use the same parameters and training steps for each model. This is necessary to compare each model accurately.\n",
    "\n",
    "### Preprocessing Data\n",
    "\n",
    "#### 1. Generate your feature data (`X`) and target data (`y`):\n",
    "* Create a dataframe `X` that contains all the columns from the returns dataframe that will be used to predict `F_1_m_returns`.\n",
    "* Create a variable, called `y`, that is equal 1 if `F_1_m_returns` is larger than 0. This will be our target variable."
   ]
  },
  {
   "cell_type": "code",
   "execution_count": 58,
   "metadata": {},
   "outputs": [
    {
     "data": {
      "text/html": [
       "<div>\n",
       "<style scoped>\n",
       "    .dataframe tbody tr th:only-of-type {\n",
       "        vertical-align: middle;\n",
       "    }\n",
       "\n",
       "    .dataframe tbody tr th {\n",
       "        vertical-align: top;\n",
       "    }\n",
       "\n",
       "    .dataframe thead th {\n",
       "        text-align: right;\n",
       "    }\n",
       "</style>\n",
       "<table border=\"1\" class=\"dataframe\">\n",
       "  <thead>\n",
       "    <tr style=\"text-align: right;\">\n",
       "      <th></th>\n",
       "      <th></th>\n",
       "      <th>F_1_m_returns</th>\n",
       "      <th>1_m_returns</th>\n",
       "      <th>5_m_returns</th>\n",
       "      <th>10_m_returns</th>\n",
       "    </tr>\n",
       "    <tr>\n",
       "      <th>level_0</th>\n",
       "      <th>level_1</th>\n",
       "      <th></th>\n",
       "      <th></th>\n",
       "      <th></th>\n",
       "      <th></th>\n",
       "    </tr>\n",
       "  </thead>\n",
       "  <tbody>\n",
       "    <tr>\n",
       "      <th rowspan=\"5\" valign=\"top\">FB</th>\n",
       "      <th>2021-01-05 09:40:00-05:00</th>\n",
       "      <td>0.000814</td>\n",
       "      <td>0.000074</td>\n",
       "      <td>0.001260</td>\n",
       "      <td>0.004758</td>\n",
       "    </tr>\n",
       "    <tr>\n",
       "      <th>2021-01-05 09:41:00-05:00</th>\n",
       "      <td>0.000887</td>\n",
       "      <td>0.000814</td>\n",
       "      <td>0.001889</td>\n",
       "      <td>0.004941</td>\n",
       "    </tr>\n",
       "    <tr>\n",
       "      <th>2021-01-05 09:42:00-05:00</th>\n",
       "      <td>0.000628</td>\n",
       "      <td>0.000887</td>\n",
       "      <td>0.001999</td>\n",
       "      <td>0.003782</td>\n",
       "    </tr>\n",
       "    <tr>\n",
       "      <th>2021-01-05 09:43:00-05:00</th>\n",
       "      <td>0.000480</td>\n",
       "      <td>0.000628</td>\n",
       "      <td>0.003408</td>\n",
       "      <td>0.007850</td>\n",
       "    </tr>\n",
       "    <tr>\n",
       "      <th>2021-01-05 09:44:00-05:00</th>\n",
       "      <td>-0.001291</td>\n",
       "      <td>0.000480</td>\n",
       "      <td>0.002886</td>\n",
       "      <td>0.005416</td>\n",
       "    </tr>\n",
       "  </tbody>\n",
       "</table>\n",
       "</div>"
      ],
      "text/plain": [
       "                                   F_1_m_returns  1_m_returns  5_m_returns  \\\n",
       "level_0 level_1                                                              \n",
       "FB      2021-01-05 09:40:00-05:00       0.000814     0.000074     0.001260   \n",
       "        2021-01-05 09:41:00-05:00       0.000887     0.000814     0.001889   \n",
       "        2021-01-05 09:42:00-05:00       0.000628     0.000887     0.001999   \n",
       "        2021-01-05 09:43:00-05:00       0.000480     0.000628     0.003408   \n",
       "        2021-01-05 09:44:00-05:00      -0.001291     0.000480     0.002886   \n",
       "\n",
       "                                   10_m_returns  \n",
       "level_0 level_1                                  \n",
       "FB      2021-01-05 09:40:00-05:00      0.004758  \n",
       "        2021-01-05 09:41:00-05:00      0.004941  \n",
       "        2021-01-05 09:42:00-05:00      0.003782  \n",
       "        2021-01-05 09:43:00-05:00      0.007850  \n",
       "        2021-01-05 09:44:00-05:00      0.005416  "
      ]
     },
     "execution_count": 58,
     "metadata": {},
     "output_type": "execute_result"
    }
   ],
   "source": [
    "# Load the dataset returns.csv and set the index to level_0 and time\n",
    "file_path = Path(\"../HW15 Algorithmic Trading/returns.csv\")\n",
    "df_returns = pd.read_csv(file_path)\n",
    "df_returns = df_returns.set_index([\"level_0\", \"level_1\"])\n",
    "df_returns.head()"
   ]
  },
  {
   "cell_type": "code",
   "execution_count": 59,
   "metadata": {},
   "outputs": [],
   "source": [
    "# Create a separate dataframe for features and define the target variable as a binary target\n",
    "X = df_returns.drop(columns=['F_1_m_returns'])\n",
    "# Create the target variable\n",
    "y = np.where(returns['F_1_m_returns']>0,1,0)"
   ]
  },
  {
   "cell_type": "markdown",
   "metadata": {},
   "source": [
    "##### Note:\n",
    "> Notice that we don't use shuffle when splitting the dataset into a training and testing dataset. \n",
    "\n",
    "> We want to keep the original ordering of the data, so we don't end up using observations in the future to predict past observations,\n",
    "\n",
    "> This is a critical mistake known as look ahead bias."
   ]
  },
  {
   "cell_type": "markdown",
   "metadata": {},
   "source": [
    "#### 2. Use the train_test_split library to split the dataset into a training and testing dataset, with 70% used for testing\n",
    "* Set the shuffle parameter to False, so that you use the first 70% for training to prvent look ahead bias.\n",
    "* Make sure you have these 4 variables: `X_train`, `X_test`, `y_train`, `y_test`. "
   ]
  },
  {
   "cell_type": "code",
   "execution_count": 60,
   "metadata": {},
   "outputs": [],
   "source": [
    "# Import train_test_split \n",
    "from sklearn.model_selection import train_test_split\n",
    "\n",
    "# Split the dataset without shuffling\n",
    "X_train, X_test, y_train, y_test = train_test_split(X, y, test_size=0.30, shuffle=False)"
   ]
  },
  {
   "cell_type": "markdown",
   "metadata": {},
   "source": [
    "#### 3. Use the `Counter` function to test the distribution of the data. \n",
    "* The result of `Counter({1: 668, 0: 1194})` reveals the data is indeed unbalanced."
   ]
  },
  {
   "cell_type": "code",
   "execution_count": 61,
   "metadata": {},
   "outputs": [
    {
     "data": {
      "text/plain": [
       "Counter({1: 668, 0: 1194})"
      ]
     },
     "execution_count": 61,
     "metadata": {},
     "output_type": "execute_result"
    }
   ],
   "source": [
    "# Import the Counter function from the collections library\n",
    "from collections import Counter\n",
    "from imblearn.over_sampling import SMOTE\n",
    "\n",
    "# Use Counter to count the number 1s and 0 in y_train\n",
    "X_resampled, y_resampled = SMOTE(random_state=1, sampling_strategy=1.0).fit_resample(X_train, y_train)\n",
    "Counter(y_train)"
   ]
  },
  {
   "cell_type": "markdown",
   "metadata": {},
   "source": [
    "#### 4. Balance the dataset with the Oversampler libary, setting `random state= 1`."
   ]
  },
  {
   "cell_type": "code",
   "execution_count": 62,
   "metadata": {},
   "outputs": [],
   "source": [
    "# Import RandomOverSampler from the imblearn library\n",
    "from imblearn.over_sampling import RandomOverSampler\n",
    "\n",
    "# Use RandomOverSampler to resample the datase using random_state=1\n",
    "ros = RandomOverSampler(random_state=1)\n",
    "X_resampled, y_resampled = ros.fit_resample(X_train, y_train)"
   ]
  },
  {
   "cell_type": "markdown",
   "metadata": {},
   "source": [
    "#### 5. Test the distribution once again with `Counter`. The new result of `Counter({1: 1194, 0: 1194})` shows the data is now balanced."
   ]
  },
  {
   "cell_type": "code",
   "execution_count": 63,
   "metadata": {},
   "outputs": [
    {
     "data": {
      "text/plain": [
       "Counter({1: 1194, 0: 1194})"
      ]
     },
     "execution_count": 63,
     "metadata": {},
     "output_type": "execute_result"
    }
   ],
   "source": [
    "# Use Counter again to verify imbalance removed\n",
    "X_resampled, y_resampled = SMOTE(random_state=1, sampling_strategy=1).fit_resample(X_train, y_train)\n",
    "Counter(y_resampled)"
   ]
  },
  {
   "cell_type": "markdown",
   "metadata": {},
   "source": [
    "# Machine Learning\n",
    "\n",
    "#### 1. The first cells in this section provide an example of how to fit and train your model using the `LogisticRegression` model from sklearn:\n",
    "* Import select model.\n",
    "* Instantiate model object.\n",
    "* Fit the model to the resampled data - `X_resampled` and `y_resampled`.\n",
    "* Predict the model using `X_test`.\n",
    "* Print the classification report."
   ]
  },
  {
   "cell_type": "code",
   "execution_count": 64,
   "metadata": {},
   "outputs": [],
   "source": [
    "# Import classification_report from sklearn\n",
    "from sklearn.metrics import classification_report"
   ]
  },
  {
   "cell_type": "code",
   "execution_count": 65,
   "metadata": {},
   "outputs": [
    {
     "name": "stdout",
     "output_type": "stream",
     "text": [
      "              precision    recall  f1-score   support\n",
      "\n",
      "           0     0.5309    0.5086    0.5195       405\n",
      "           1     0.5146    0.5369    0.5255       393\n",
      "\n",
      "    accuracy                         0.5226       798\n",
      "   macro avg     0.5228    0.5228    0.5225       798\n",
      "weighted avg     0.5229    0.5226    0.5225       798\n",
      "\n"
     ]
    }
   ],
   "source": [
    "# Import LogisticRegression from sklearn\n",
    "from sklearn.linear_model import LogisticRegression\n",
    "\n",
    "# Create a LogisticRegression model and train it on the X_resampled data we created before\n",
    "log_model = LogisticRegression()\n",
    "log_model.fit(X_resampled, y_resampled)  \n",
    "\n",
    "# Use the model you trained to predict using X_test\n",
    "y_pred = log_model.predict(X_test)   \n",
    "\n",
    "# Print out a classification report toevaluate performance\n",
    "print(classification_report(y_test, y_pred, digits=4))"
   ]
  },
  {
   "cell_type": "markdown",
   "metadata": {},
   "source": [
    "#### 2. Use the same approach as above to train and test the following ML Algorithms:\n",
    "* [RandomForestClassifier](https://scikit-learn.org/stable/modules/generated/sklearn.ensemble.RandomForestClassifier.html)\n",
    "* [GradientBoostingClassifier](https://scikit-learn.org/stable/modules/generated/sklearn.ensemble.GradientBoostingClassifier.html)\n",
    "* [AdaBoostClassifier](https://scikit-learn.org/stable/modules/generated/sklearn.ensemble.AdaBoostClassifier.html)\n",
    "* [XGBClassifier](https://xgboost.readthedocs.io/en/latest/python/python_api.html)"
   ]
  },
  {
   "cell_type": "markdown",
   "metadata": {},
   "source": [
    "#### RandomForestClassifier"
   ]
  },
  {
   "cell_type": "code",
   "execution_count": 66,
   "metadata": {},
   "outputs": [
    {
     "name": "stdout",
     "output_type": "stream",
     "text": [
      "              precision    recall  f1-score   support\n",
      "\n",
      "           0     0.4902    0.4938    0.4920       405\n",
      "           1     0.4744    0.4707    0.4725       393\n",
      "\n",
      "    accuracy                         0.4825       798\n",
      "   macro avg     0.4823    0.4823    0.4823       798\n",
      "weighted avg     0.4824    0.4825    0.4824       798\n",
      "\n"
     ]
    }
   ],
   "source": [
    "# Import RandomForestClassifier from sklearn\n",
    "from sklearn.ensemble import RandomForestClassifier\n",
    "\n",
    "# Create a RandomForestClassifier model and train it on the X_resampled data we created before\n",
    "RFC_model = RandomForestClassifier(random_state=0)\n",
    "RFC_model.fit(X_resampled, y_resampled)  \n",
    "# Use the model you trained to predict using X_test\n",
    "y_pred = RFC_model.predict(X_test) \n",
    "\n",
    "# Print out a classification report to evaluate performance\n",
    "print(classification_report(y_test, y_pred, digits=4))"
   ]
  },
  {
   "cell_type": "markdown",
   "metadata": {},
   "source": [
    "#### GradientBoostingClassifier"
   ]
  },
  {
   "cell_type": "code",
   "execution_count": 67,
   "metadata": {},
   "outputs": [
    {
     "name": "stdout",
     "output_type": "stream",
     "text": [
      "              precision    recall  f1-score   support\n",
      "\n",
      "           0     0.4931    0.3531    0.4115       405\n",
      "           1     0.4843    0.6260    0.5461       393\n",
      "\n",
      "    accuracy                         0.4875       798\n",
      "   macro avg     0.4887    0.4895    0.4788       798\n",
      "weighted avg     0.4887    0.4875    0.4778       798\n",
      "\n"
     ]
    }
   ],
   "source": [
    "# Import RandomForestClassifier from sklearn\n",
    "from sklearn.ensemble import GradientBoostingClassifier\n",
    "\n",
    "# Create a GradientBoostingClassifier model and train it on the X_resampled data we created before\n",
    "GBC_model = GradientBoostingClassifier(random_state=0)\n",
    "# Use the model you trained to predict using X_test\n",
    "GBC_model.fit(X_resampled, y_resampled)    \n",
    "y_pred = GBC_model.predict(X_test)   \n",
    "# Print out a classification report to evaluate performance\n",
    "print(classification_report(y_test, y_pred, digits=4))"
   ]
  },
  {
   "cell_type": "markdown",
   "metadata": {},
   "source": [
    "#### AdaBoostClassifier"
   ]
  },
  {
   "cell_type": "code",
   "execution_count": 68,
   "metadata": {},
   "outputs": [
    {
     "name": "stdout",
     "output_type": "stream",
     "text": [
      "              precision    recall  f1-score   support\n",
      "\n",
      "           0     0.4902    0.4938    0.4920       405\n",
      "           1     0.4744    0.4707    0.4725       393\n",
      "\n",
      "    accuracy                         0.4825       798\n",
      "   macro avg     0.4823    0.4823    0.4823       798\n",
      "weighted avg     0.4824    0.4825    0.4824       798\n",
      "\n"
     ]
    }
   ],
   "source": [
    "# Import RandomForestClassifier from sklearn\n",
    "from sklearn.ensemble import AdaBoostClassifier\n",
    "\n",
    "# Create a AdaBoostClassifier model and train it on the X_resampled data we created before\n",
    "ADA_model = RandomForestClassifier(random_state=0)\n",
    "\n",
    "# Use the model you trained to predict using X_test\n",
    "ADA_model.fit(X_resampled, y_resampled)\n",
    "y_pred = ADA_model.predict(X_test)\n",
    "# Print out a classification report to evaluate performance\n",
    "print(classification_report(y_test, y_pred, digits=4))"
   ]
  },
  {
   "cell_type": "markdown",
   "metadata": {},
   "source": [
    "#### XGBClassifier"
   ]
  },
  {
   "cell_type": "code",
   "execution_count": 69,
   "metadata": {},
   "outputs": [
    {
     "name": "stderr",
     "output_type": "stream",
     "text": [
      "C:\\Users\\conno\\anaconda3\\lib\\site-packages\\xgboost\\sklearn.py:888: UserWarning: The use of label encoder in XGBClassifier is deprecated and will be removed in a future release. To remove this warning, do the following: 1) Pass option use_label_encoder=False when constructing XGBClassifier object; and 2) Encode your labels (y) as integers starting with 0, i.e. 0, 1, 2, ..., [num_class - 1].\n",
      "  warnings.warn(label_encoder_deprecation_msg, UserWarning)\n"
     ]
    },
    {
     "name": "stdout",
     "output_type": "stream",
     "text": [
      "[16:24:01] WARNING: C:/Users/Administrator/workspace/xgboost-win64_release_1.3.0/src/learner.cc:1061: Starting in XGBoost 1.3.0, the default evaluation metric used with the objective 'binary:logistic' was changed from 'error' to 'logloss'. Explicitly set eval_metric if you'd like to restore the old behavior.\n",
      "              precision    recall  f1-score   support\n",
      "\n",
      "           0     0.4793    0.4296    0.4531       405\n",
      "           1     0.4690    0.5191    0.4928       393\n",
      "\n",
      "    accuracy                         0.4737       798\n",
      "   macro avg     0.4742    0.4744    0.4729       798\n",
      "weighted avg     0.4742    0.4737    0.4726       798\n",
      "\n"
     ]
    }
   ],
   "source": [
    "# Import RandomForestClassifier from sklearn\n",
    "from xgboost import XGBClassifier\n",
    "\n",
    "# Create a XGBClassifier model and train it on the X_resampled data we created before\n",
    "XGB = XGBClassifier(random_state=0)\n",
    "\n",
    "# Use the model you trained to predict using X_test\n",
    "XGB.fit(X_resampled, y_resampled)\n",
    "y_pred = XGB.predict(X_test)\n",
    "# Print out a classification report to evaluate performance\n",
    "print(classification_report(y_test, y_pred, digits=4))"
   ]
  },
  {
   "cell_type": "markdown",
   "metadata": {},
   "source": [
    "### Evaluate the performance of each model\n"
   ]
  },
  {
   "cell_type": "markdown",
   "metadata": {},
   "source": [
    "#### 1. Using the classification report for each model, choose the model with the highest precision for use in your algo-trading program.\n",
    "#### 2. Save the selected model with the `joblib` libary to avoid retraining every time you wish to use it."
   ]
  },
  {
   "cell_type": "code",
   "execution_count": 70,
   "metadata": {},
   "outputs": [
    {
     "data": {
      "text/plain": [
       "['log_model.pkl']"
      ]
     },
     "execution_count": 70,
     "metadata": {},
     "output_type": "execute_result"
    }
   ],
   "source": [
    "# Import the joblib library \n",
    "import joblib\n",
    "\n",
    "# Use the library to save the model that you want to use for trading\n",
    "joblib.dump(log_model, 'log_model.pkl')"
   ]
  },
  {
   "cell_type": "markdown",
   "metadata": {},
   "source": [
    "## Part 3: Implement the strongest model using Apaca API"
   ]
  },
  {
   "cell_type": "markdown",
   "metadata": {},
   "source": [
    "### Develop the Algorithm\n"
   ]
  },
  {
   "cell_type": "markdown",
   "metadata": {},
   "source": [
    "#### 1. Use the provided code to ping the Alpaca API and create the DataFrame needed to feed data into the model.\n",
    "   * This code will also store the correct feature data in `X` for later use."
   ]
  },
  {
   "cell_type": "code",
   "execution_count": 71,
   "metadata": {},
   "outputs": [
    {
     "name": "stdout",
     "output_type": "stream",
     "text": [
      "                                FB      AMZN     AAPL    NFLX    GOOGL  \\\n",
      "2021-01-06 14:50:00-05:00  264.610  3146.960  127.110  506.54  1721.82   \n",
      "2021-01-06 14:51:00-05:00  264.630  3146.910  127.430  506.54  1721.82   \n",
      "2021-01-06 14:52:00-05:00  264.830  3147.980  127.720  506.69  1723.67   \n",
      "2021-01-06 14:53:00-05:00  264.525  3148.570  127.510  506.01  1723.67   \n",
      "2021-01-06 14:54:00-05:00  264.560  3147.840  127.645  506.01  1720.84   \n",
      "2021-01-06 14:55:00-05:00  264.880  3150.330  127.920  506.30  1720.60   \n",
      "2021-01-06 14:56:00-05:00  264.965  3150.610  128.150  506.72  1721.10   \n",
      "2021-01-06 14:57:00-05:00  264.980  3151.745  127.980  507.07  1720.07   \n",
      "2021-01-06 14:58:00-05:00  265.000  3149.280  127.850  506.33  1720.07   \n",
      "2021-01-06 14:59:00-05:00  265.360  3150.840  127.930  506.13  1720.48   \n",
      "2021-01-06 15:00:00-05:00  264.840  3148.580  127.630  506.43  1720.48   \n",
      "\n",
      "                              MSFT    TSLA  \n",
      "2021-01-06 14:50:00-05:00  213.930  753.33  \n",
      "2021-01-06 14:51:00-05:00  214.080  757.44  \n",
      "2021-01-06 14:52:00-05:00  214.220  759.03  \n",
      "2021-01-06 14:53:00-05:00  213.960  756.65  \n",
      "2021-01-06 14:54:00-05:00  214.230  759.90  \n",
      "2021-01-06 14:55:00-05:00  214.330  762.45  \n",
      "2021-01-06 14:56:00-05:00  214.380  763.04  \n",
      "2021-01-06 14:57:00-05:00  214.210  763.04  \n",
      "2021-01-06 14:58:00-05:00  214.180  762.30  \n",
      "2021-01-06 14:59:00-05:00  214.235  761.80  \n",
      "2021-01-06 15:00:00-05:00  214.070  761.24  \n"
     ]
    }
   ],
   "source": [
    "# Create the list of tickers\n",
    "\n",
    "ticker_list = ['FB','AMZN','AAPL','NFLX', 'GOOGL', 'MSFT', 'TSLA']\n",
    "# Define Dates\n",
    "\n",
    "beg_date = '2021-01-06'\n",
    "end_date = '2021-01-06'\n",
    "\n",
    "# Convert the date in a format the Alpaca API reqires\n",
    "start =  pd.Timestamp(f'{beg_date} 09:30:00-0400', tz='America/New_York').replace(hour=9, minute=30, second=0).astimezone('GMT').isoformat()[:-6]+'Z'\n",
    "end   =  pd.Timestamp(f'{end_date} 16:00:00-0400', tz='America/New_York').replace(hour=15, minute=0, second=0).astimezone('GMT').isoformat()[:-6]+'Z'\n",
    "timeframe='1Min'\n",
    "\n",
    "# Use iloc to get the last 10 mins every time we pull new data\n",
    "prices = alpaca.get_barset(ticker_list, \"minute\", start=start, end=end).df.iloc[-11:]\n",
    "prices.ffill(inplace=True)   \n",
    "\n",
    "# Create an empty DataFrame for closing prices\n",
    "df_closing_prices = pd.DataFrame()\n",
    "\n",
    "# Fetch the closing prices of our tickers\n",
    "df_closing_prices[\"FB\"] = prices[\"FB\"][\"close\"]\n",
    "df_closing_prices[\"AMZN\"] = prices[\"AMZN\"][\"close\"]\n",
    "df_closing_prices[\"AAPL\"] = prices[\"AAPL\"][\"close\"]\n",
    "df_closing_prices[\"NFLX\"] = prices[\"NFLX\"][\"close\"]\n",
    "df_closing_prices[\"GOOGL\"] = prices[\"GOOGL\"][\"close\"]\n",
    "df_closing_prices['MSFT'] = prices['MSFT'][\"close\"]\n",
    "df_closing_prices['TSLA'] = prices['TSLA'][\"close\"]\n",
    "\n",
    "print(df_closing_prices.head(20))"
   ]
  },
  {
   "cell_type": "code",
   "execution_count": 72,
   "metadata": {},
   "outputs": [
    {
     "data": {
      "text/html": [
       "<div>\n",
       "<style scoped>\n",
       "    .dataframe tbody tr th:only-of-type {\n",
       "        vertical-align: middle;\n",
       "    }\n",
       "\n",
       "    .dataframe tbody tr th {\n",
       "        vertical-align: top;\n",
       "    }\n",
       "\n",
       "    .dataframe thead th {\n",
       "        text-align: right;\n",
       "    }\n",
       "</style>\n",
       "<table border=\"1\" class=\"dataframe\">\n",
       "  <thead>\n",
       "    <tr style=\"text-align: right;\">\n",
       "      <th></th>\n",
       "      <th></th>\n",
       "      <th>1_m_returns</th>\n",
       "      <th>5_m_returns</th>\n",
       "      <th>10_m_returns</th>\n",
       "    </tr>\n",
       "    <tr>\n",
       "      <th>level_0</th>\n",
       "      <th>level_1</th>\n",
       "      <th></th>\n",
       "      <th></th>\n",
       "      <th></th>\n",
       "    </tr>\n",
       "  </thead>\n",
       "  <tbody>\n",
       "    <tr>\n",
       "      <th>FB</th>\n",
       "      <th>2021-01-06 15:00:00-05:00</th>\n",
       "      <td>-0.001960</td>\n",
       "      <td>-0.000151</td>\n",
       "      <td>0.000869</td>\n",
       "    </tr>\n",
       "    <tr>\n",
       "      <th>AMZN</th>\n",
       "      <th>2021-01-06 15:00:00-05:00</th>\n",
       "      <td>-0.000717</td>\n",
       "      <td>-0.000555</td>\n",
       "      <td>0.000515</td>\n",
       "    </tr>\n",
       "    <tr>\n",
       "      <th>AAPL</th>\n",
       "      <th>2021-01-06 15:00:00-05:00</th>\n",
       "      <td>-0.002345</td>\n",
       "      <td>-0.002267</td>\n",
       "      <td>0.004091</td>\n",
       "    </tr>\n",
       "    <tr>\n",
       "      <th>NFLX</th>\n",
       "      <th>2021-01-06 15:00:00-05:00</th>\n",
       "      <td>0.000593</td>\n",
       "      <td>0.000257</td>\n",
       "      <td>-0.000217</td>\n",
       "    </tr>\n",
       "    <tr>\n",
       "      <th>GOOGL</th>\n",
       "      <th>2021-01-06 15:00:00-05:00</th>\n",
       "      <td>0.000000</td>\n",
       "      <td>-0.000070</td>\n",
       "      <td>-0.000778</td>\n",
       "    </tr>\n",
       "    <tr>\n",
       "      <th>MSFT</th>\n",
       "      <th>2021-01-06 15:00:00-05:00</th>\n",
       "      <td>-0.000770</td>\n",
       "      <td>-0.001213</td>\n",
       "      <td>0.000654</td>\n",
       "    </tr>\n",
       "    <tr>\n",
       "      <th>TSLA</th>\n",
       "      <th>2021-01-06 15:00:00-05:00</th>\n",
       "      <td>-0.000735</td>\n",
       "      <td>-0.001587</td>\n",
       "      <td>0.010500</td>\n",
       "    </tr>\n",
       "  </tbody>\n",
       "</table>\n",
       "</div>"
      ],
      "text/plain": [
       "                                   1_m_returns  5_m_returns  10_m_returns\n",
       "level_0 level_1                                                          \n",
       "FB      2021-01-06 15:00:00-05:00    -0.001960    -0.000151      0.000869\n",
       "AMZN    2021-01-06 15:00:00-05:00    -0.000717    -0.000555      0.000515\n",
       "AAPL    2021-01-06 15:00:00-05:00    -0.002345    -0.002267      0.004091\n",
       "NFLX    2021-01-06 15:00:00-05:00     0.000593     0.000257     -0.000217\n",
       "GOOGL   2021-01-06 15:00:00-05:00     0.000000    -0.000070     -0.000778\n",
       "MSFT    2021-01-06 15:00:00-05:00    -0.000770    -0.001213      0.000654\n",
       "TSLA    2021-01-06 15:00:00-05:00    -0.000735    -0.001587      0.010500"
      ]
     },
     "execution_count": 72,
     "metadata": {},
     "output_type": "execute_result"
    }
   ],
   "source": [
    "# Create list of momentums\n",
    "list_of_momentums = [1,5,10]\n",
    "\n",
    "for i in list_of_momentums:  \n",
    "    # Compute percentage change for each one of the momentums in the momentum list\n",
    "    returns_temp = df_closing_prices.pct_change(i)\n",
    "    # Unstack the returns \n",
    "    returns_temp = pd.DataFrame(returns_temp.unstack())\n",
    "    name = f'{i}_m_returns'\n",
    "    returns_temp.rename(columns={0: name}, inplace = True)\n",
    "    # Reset the index so we can merge based on index\n",
    "    returns_temp.reset_index(inplace = True)\n",
    "    # Merge newly computed returns with previously created returns\n",
    "    if i ==1:\n",
    "        returns = returns_temp\n",
    "    else:\n",
    "        returns = pd.merge(returns,returns_temp,left_on=['level_0', 'level_1'],right_on=['level_0', 'level_1'], how='left', suffixes=('_original', 'right'))\n",
    "\n",
    "# Drop nulls and set index\n",
    "returns.dropna(axis=0, how='any', inplace=True)\n",
    "returns.set_index(['level_0', 'level_1'], inplace=True)\n",
    "\n",
    "# Generate feature data and preview first 10 rows.\n",
    "X = returns\n",
    "X.head(10)"
   ]
  },
  {
   "cell_type": "markdown",
   "metadata": {},
   "source": [
    "#### 2. Using `joblib`, load the chosen model."
   ]
  },
  {
   "cell_type": "code",
   "execution_count": 73,
   "metadata": {},
   "outputs": [
    {
     "data": {
      "text/plain": [
       "LogisticRegression()"
      ]
     },
     "execution_count": 73,
     "metadata": {},
     "output_type": "execute_result"
    }
   ],
   "source": [
    "# Load the previously trained and saved model using joblib\n",
    "joblib.load('log_model.pkl')"
   ]
  },
  {
   "cell_type": "markdown",
   "metadata": {},
   "source": [
    "#### 3. Use the model file to make predicttions:\n",
    "* Use `predict` on `X` and save this as `y_pred`.\n",
    "* Convert `y_pred` to a DataFrame, setting the index to the index of `X`.\n",
    "* Rename the column 0 to 'buy', be sure to set `inplace =True`."
   ]
  },
  {
   "cell_type": "code",
   "execution_count": 74,
   "metadata": {},
   "outputs": [
    {
     "data": {
      "text/html": [
       "<div>\n",
       "<style scoped>\n",
       "    .dataframe tbody tr th:only-of-type {\n",
       "        vertical-align: middle;\n",
       "    }\n",
       "\n",
       "    .dataframe tbody tr th {\n",
       "        vertical-align: top;\n",
       "    }\n",
       "\n",
       "    .dataframe thead th {\n",
       "        text-align: right;\n",
       "    }\n",
       "</style>\n",
       "<table border=\"1\" class=\"dataframe\">\n",
       "  <thead>\n",
       "    <tr style=\"text-align: right;\">\n",
       "      <th></th>\n",
       "      <th></th>\n",
       "      <th>buy</th>\n",
       "    </tr>\n",
       "    <tr>\n",
       "      <th>level_0</th>\n",
       "      <th>level_1</th>\n",
       "      <th></th>\n",
       "    </tr>\n",
       "  </thead>\n",
       "  <tbody>\n",
       "    <tr>\n",
       "      <th>FB</th>\n",
       "      <th>2021-01-06 15:00:00-05:00</th>\n",
       "      <td>1</td>\n",
       "    </tr>\n",
       "    <tr>\n",
       "      <th>AMZN</th>\n",
       "      <th>2021-01-06 15:00:00-05:00</th>\n",
       "      <td>1</td>\n",
       "    </tr>\n",
       "    <tr>\n",
       "      <th>AAPL</th>\n",
       "      <th>2021-01-06 15:00:00-05:00</th>\n",
       "      <td>1</td>\n",
       "    </tr>\n",
       "    <tr>\n",
       "      <th>NFLX</th>\n",
       "      <th>2021-01-06 15:00:00-05:00</th>\n",
       "      <td>0</td>\n",
       "    </tr>\n",
       "    <tr>\n",
       "      <th>GOOGL</th>\n",
       "      <th>2021-01-06 15:00:00-05:00</th>\n",
       "      <td>1</td>\n",
       "    </tr>\n",
       "  </tbody>\n",
       "</table>\n",
       "</div>"
      ],
      "text/plain": [
       "                                   buy\n",
       "level_0 level_1                       \n",
       "FB      2021-01-06 15:00:00-05:00    1\n",
       "AMZN    2021-01-06 15:00:00-05:00    1\n",
       "AAPL    2021-01-06 15:00:00-05:00    1\n",
       "NFLX    2021-01-06 15:00:00-05:00    0\n",
       "GOOGL   2021-01-06 15:00:00-05:00    1"
      ]
     },
     "execution_count": 74,
     "metadata": {},
     "output_type": "execute_result"
    }
   ],
   "source": [
    "# Use the model file to predict on X\n",
    "# YOUR CODE HERE\n",
    "y_pred = log_model.predict(X)\n",
    "# Convert y_pred to a dataframe, set the index to the index of X\n",
    "y_pred = pd.DataFrame(y_pred, index=X.index)\n",
    "# Rename the column 0 to 'buy', be sure to set inplace =True\n",
    "y_pred.rename(columns = {y_pred.columns[0]: 'buy'}, inplace=True)\n",
    "y_pred.head()"
   ]
  },
  {
   "cell_type": "markdown",
   "metadata": {},
   "source": [
    "#### 4. Filter the stocks where 'buy' is equal to 1, saving the filter as `y_pred`."
   ]
  },
  {
   "cell_type": "code",
   "execution_count": 75,
   "metadata": {},
   "outputs": [
    {
     "data": {
      "text/html": [
       "<div>\n",
       "<style scoped>\n",
       "    .dataframe tbody tr th:only-of-type {\n",
       "        vertical-align: middle;\n",
       "    }\n",
       "\n",
       "    .dataframe tbody tr th {\n",
       "        vertical-align: top;\n",
       "    }\n",
       "\n",
       "    .dataframe thead th {\n",
       "        text-align: right;\n",
       "    }\n",
       "</style>\n",
       "<table border=\"1\" class=\"dataframe\">\n",
       "  <thead>\n",
       "    <tr style=\"text-align: right;\">\n",
       "      <th></th>\n",
       "      <th></th>\n",
       "      <th>buy</th>\n",
       "    </tr>\n",
       "    <tr>\n",
       "      <th>level_0</th>\n",
       "      <th>level_1</th>\n",
       "      <th></th>\n",
       "    </tr>\n",
       "  </thead>\n",
       "  <tbody>\n",
       "    <tr>\n",
       "      <th>FB</th>\n",
       "      <th>2021-01-06 15:00:00-05:00</th>\n",
       "      <td>1</td>\n",
       "    </tr>\n",
       "    <tr>\n",
       "      <th>AMZN</th>\n",
       "      <th>2021-01-06 15:00:00-05:00</th>\n",
       "      <td>1</td>\n",
       "    </tr>\n",
       "    <tr>\n",
       "      <th>AAPL</th>\n",
       "      <th>2021-01-06 15:00:00-05:00</th>\n",
       "      <td>1</td>\n",
       "    </tr>\n",
       "    <tr>\n",
       "      <th>GOOGL</th>\n",
       "      <th>2021-01-06 15:00:00-05:00</th>\n",
       "      <td>1</td>\n",
       "    </tr>\n",
       "    <tr>\n",
       "      <th>MSFT</th>\n",
       "      <th>2021-01-06 15:00:00-05:00</th>\n",
       "      <td>1</td>\n",
       "    </tr>\n",
       "  </tbody>\n",
       "</table>\n",
       "</div>"
      ],
      "text/plain": [
       "                                   buy\n",
       "level_0 level_1                       \n",
       "FB      2021-01-06 15:00:00-05:00    1\n",
       "AMZN    2021-01-06 15:00:00-05:00    1\n",
       "AAPL    2021-01-06 15:00:00-05:00    1\n",
       "GOOGL   2021-01-06 15:00:00-05:00    1\n",
       "MSFT    2021-01-06 15:00:00-05:00    1"
      ]
     },
     "execution_count": 75,
     "metadata": {},
     "output_type": "execute_result"
    }
   ],
   "source": [
    "# Filter the stocks where 'buy' is equal to 1\n",
    "y_pred = y_pred[y_pred['buy'] == 1]\n",
    "y_pred.tail()"
   ]
  },
  {
   "cell_type": "markdown",
   "metadata": {},
   "source": [
    "#### 5. Using the `y_pred` filter, create a dictionary called `buy_dict` and assign 'n' to each Ticker (key value) as a placeholder."
   ]
  },
  {
   "cell_type": "code",
   "execution_count": 76,
   "metadata": {},
   "outputs": [
    {
     "data": {
      "text/plain": [
       "{'FB': 'n', 'AMZN': 'n', 'AAPL': 'n', 'GOOGL': 'n', 'MSFT': 'n'}"
      ]
     },
     "execution_count": 76,
     "metadata": {},
     "output_type": "execute_result"
    }
   ],
   "source": [
    "# Create dictionary from y_pred and assign a 'n' to each of them for now as a placeholder.\n",
    "buy_dict = dict.fromkeys(y_pred.index.get_level_values(0), 'n')\n",
    "buy_dict"
   ]
  },
  {
   "cell_type": "markdown",
   "metadata": {},
   "source": [
    "#### 6. Obtain the total available equity in your account from the Alpaca API and store in a variable called `total_capital`. You will split the capital equally between all selected stocks per the CIO's request."
   ]
  },
  {
   "cell_type": "code",
   "execution_count": 87,
   "metadata": {},
   "outputs": [
    {
     "ename": "JSONDecodeError",
     "evalue": "Expecting value: line 1 column 1 (char 0)",
     "output_type": "error",
     "traceback": [
      "\u001b[1;31m---------------------------------------------------------------------------\u001b[0m",
      "\u001b[1;31mJSONDecodeError\u001b[0m                           Traceback (most recent call last)",
      "\u001b[1;32m<ipython-input-87-08e8b919d303>\u001b[0m in \u001b[0;36m<module>\u001b[1;34m\u001b[0m\n\u001b[0;32m      1\u001b[0m \u001b[1;31m# Pull the total available equity in our account from the Alpaca API\u001b[0m\u001b[1;33m\u001b[0m\u001b[1;33m\u001b[0m\u001b[1;33m\u001b[0m\u001b[0m\n\u001b[1;32m----> 2\u001b[1;33m \u001b[0mtotal_capital\u001b[0m \u001b[1;33m=\u001b[0m \u001b[0malpaca\u001b[0m\u001b[1;33m.\u001b[0m\u001b[0mget_account\u001b[0m\u001b[1;33m(\u001b[0m\u001b[1;33m)\u001b[0m\u001b[1;33m.\u001b[0m\u001b[0mequity\u001b[0m\u001b[1;33m\u001b[0m\u001b[1;33m\u001b[0m\u001b[0m\n\u001b[0m\u001b[0;32m      3\u001b[0m \u001b[0mprint\u001b[0m\u001b[1;33m(\u001b[0m\u001b[1;34mf\"Total available capital: {total_capital}\"\u001b[0m\u001b[1;33m)\u001b[0m\u001b[1;33m\u001b[0m\u001b[1;33m\u001b[0m\u001b[0m\n",
      "\u001b[1;32m~\\anaconda3\\lib\\site-packages\\alpaca_trade_api\\rest.py\u001b[0m in \u001b[0;36mget_account\u001b[1;34m(self)\u001b[0m\n\u001b[0;32m    182\u001b[0m     \u001b[1;32mdef\u001b[0m \u001b[0mget_account\u001b[0m\u001b[1;33m(\u001b[0m\u001b[0mself\u001b[0m\u001b[1;33m)\u001b[0m \u001b[1;33m->\u001b[0m \u001b[0mAccount\u001b[0m\u001b[1;33m:\u001b[0m\u001b[1;33m\u001b[0m\u001b[1;33m\u001b[0m\u001b[0m\n\u001b[0;32m    183\u001b[0m         \u001b[1;34m\"\"\"Get the account\"\"\"\u001b[0m\u001b[1;33m\u001b[0m\u001b[1;33m\u001b[0m\u001b[0m\n\u001b[1;32m--> 184\u001b[1;33m         \u001b[0mresp\u001b[0m \u001b[1;33m=\u001b[0m \u001b[0mself\u001b[0m\u001b[1;33m.\u001b[0m\u001b[0mget\u001b[0m\u001b[1;33m(\u001b[0m\u001b[1;34m'/account'\u001b[0m\u001b[1;33m)\u001b[0m\u001b[1;33m\u001b[0m\u001b[1;33m\u001b[0m\u001b[0m\n\u001b[0m\u001b[0;32m    185\u001b[0m         \u001b[1;32mreturn\u001b[0m \u001b[0mself\u001b[0m\u001b[1;33m.\u001b[0m\u001b[0mresponse_wrapper\u001b[0m\u001b[1;33m(\u001b[0m\u001b[0mresp\u001b[0m\u001b[1;33m,\u001b[0m \u001b[0mAccount\u001b[0m\u001b[1;33m)\u001b[0m\u001b[1;33m\u001b[0m\u001b[1;33m\u001b[0m\u001b[0m\n\u001b[0;32m    186\u001b[0m \u001b[1;33m\u001b[0m\u001b[0m\n",
      "\u001b[1;32m~\\anaconda3\\lib\\site-packages\\alpaca_trade_api\\rest.py\u001b[0m in \u001b[0;36mget\u001b[1;34m(self, path, data)\u001b[0m\n\u001b[0;32m    160\u001b[0m \u001b[1;33m\u001b[0m\u001b[0m\n\u001b[0;32m    161\u001b[0m     \u001b[1;32mdef\u001b[0m \u001b[0mget\u001b[0m\u001b[1;33m(\u001b[0m\u001b[0mself\u001b[0m\u001b[1;33m,\u001b[0m \u001b[0mpath\u001b[0m\u001b[1;33m,\u001b[0m \u001b[0mdata\u001b[0m\u001b[1;33m=\u001b[0m\u001b[1;32mNone\u001b[0m\u001b[1;33m)\u001b[0m\u001b[1;33m:\u001b[0m\u001b[1;33m\u001b[0m\u001b[1;33m\u001b[0m\u001b[0m\n\u001b[1;32m--> 162\u001b[1;33m         \u001b[1;32mreturn\u001b[0m \u001b[0mself\u001b[0m\u001b[1;33m.\u001b[0m\u001b[0m_request\u001b[0m\u001b[1;33m(\u001b[0m\u001b[1;34m'GET'\u001b[0m\u001b[1;33m,\u001b[0m \u001b[0mpath\u001b[0m\u001b[1;33m,\u001b[0m \u001b[0mdata\u001b[0m\u001b[1;33m)\u001b[0m\u001b[1;33m\u001b[0m\u001b[1;33m\u001b[0m\u001b[0m\n\u001b[0m\u001b[0;32m    163\u001b[0m \u001b[1;33m\u001b[0m\u001b[0m\n\u001b[0;32m    164\u001b[0m     \u001b[1;32mdef\u001b[0m \u001b[0mpost\u001b[0m\u001b[1;33m(\u001b[0m\u001b[0mself\u001b[0m\u001b[1;33m,\u001b[0m \u001b[0mpath\u001b[0m\u001b[1;33m,\u001b[0m \u001b[0mdata\u001b[0m\u001b[1;33m=\u001b[0m\u001b[1;32mNone\u001b[0m\u001b[1;33m)\u001b[0m\u001b[1;33m:\u001b[0m\u001b[1;33m\u001b[0m\u001b[1;33m\u001b[0m\u001b[0m\n",
      "\u001b[1;32m~\\anaconda3\\lib\\site-packages\\alpaca_trade_api\\rest.py\u001b[0m in \u001b[0;36m_request\u001b[1;34m(self, method, path, data, base_url, api_version)\u001b[0m\n\u001b[0;32m    123\u001b[0m         \u001b[1;32mwhile\u001b[0m \u001b[0mretry\u001b[0m \u001b[1;33m>=\u001b[0m \u001b[1;36m0\u001b[0m\u001b[1;33m:\u001b[0m\u001b[1;33m\u001b[0m\u001b[1;33m\u001b[0m\u001b[0m\n\u001b[0;32m    124\u001b[0m             \u001b[1;32mtry\u001b[0m\u001b[1;33m:\u001b[0m\u001b[1;33m\u001b[0m\u001b[1;33m\u001b[0m\u001b[0m\n\u001b[1;32m--> 125\u001b[1;33m                 \u001b[1;32mreturn\u001b[0m \u001b[0mself\u001b[0m\u001b[1;33m.\u001b[0m\u001b[0m_one_request\u001b[0m\u001b[1;33m(\u001b[0m\u001b[0mmethod\u001b[0m\u001b[1;33m,\u001b[0m \u001b[0murl\u001b[0m\u001b[1;33m,\u001b[0m \u001b[0mopts\u001b[0m\u001b[1;33m,\u001b[0m \u001b[0mretry\u001b[0m\u001b[1;33m)\u001b[0m\u001b[1;33m\u001b[0m\u001b[1;33m\u001b[0m\u001b[0m\n\u001b[0m\u001b[0;32m    126\u001b[0m             \u001b[1;32mexcept\u001b[0m \u001b[0mRetryException\u001b[0m\u001b[1;33m:\u001b[0m\u001b[1;33m\u001b[0m\u001b[1;33m\u001b[0m\u001b[0m\n\u001b[0;32m    127\u001b[0m                 \u001b[0mretry_wait\u001b[0m \u001b[1;33m=\u001b[0m \u001b[0mself\u001b[0m\u001b[1;33m.\u001b[0m\u001b[0m_retry_wait\u001b[0m\u001b[1;33m\u001b[0m\u001b[1;33m\u001b[0m\u001b[0m\n",
      "\u001b[1;32m~\\anaconda3\\lib\\site-packages\\alpaca_trade_api\\rest.py\u001b[0m in \u001b[0;36m_one_request\u001b[1;34m(self, method, url, opts, retry)\u001b[0m\n\u001b[0;32m    156\u001b[0m                 \u001b[1;32mraise\u001b[0m\u001b[1;33m\u001b[0m\u001b[1;33m\u001b[0m\u001b[0m\n\u001b[0;32m    157\u001b[0m         \u001b[1;32mif\u001b[0m \u001b[0mresp\u001b[0m\u001b[1;33m.\u001b[0m\u001b[0mtext\u001b[0m \u001b[1;33m!=\u001b[0m \u001b[1;34m''\u001b[0m\u001b[1;33m:\u001b[0m\u001b[1;33m\u001b[0m\u001b[1;33m\u001b[0m\u001b[0m\n\u001b[1;32m--> 158\u001b[1;33m             \u001b[1;32mreturn\u001b[0m \u001b[0mresp\u001b[0m\u001b[1;33m.\u001b[0m\u001b[0mjson\u001b[0m\u001b[1;33m(\u001b[0m\u001b[1;33m)\u001b[0m\u001b[1;33m\u001b[0m\u001b[1;33m\u001b[0m\u001b[0m\n\u001b[0m\u001b[0;32m    159\u001b[0m         \u001b[1;32mreturn\u001b[0m \u001b[1;32mNone\u001b[0m\u001b[1;33m\u001b[0m\u001b[1;33m\u001b[0m\u001b[0m\n\u001b[0;32m    160\u001b[0m \u001b[1;33m\u001b[0m\u001b[0m\n",
      "\u001b[1;32m~\\anaconda3\\lib\\site-packages\\requests\\models.py\u001b[0m in \u001b[0;36mjson\u001b[1;34m(self, **kwargs)\u001b[0m\n\u001b[0;32m    895\u001b[0m                     \u001b[1;31m# used.\u001b[0m\u001b[1;33m\u001b[0m\u001b[1;33m\u001b[0m\u001b[1;33m\u001b[0m\u001b[0m\n\u001b[0;32m    896\u001b[0m                     \u001b[1;32mpass\u001b[0m\u001b[1;33m\u001b[0m\u001b[1;33m\u001b[0m\u001b[0m\n\u001b[1;32m--> 897\u001b[1;33m         \u001b[1;32mreturn\u001b[0m \u001b[0mcomplexjson\u001b[0m\u001b[1;33m.\u001b[0m\u001b[0mloads\u001b[0m\u001b[1;33m(\u001b[0m\u001b[0mself\u001b[0m\u001b[1;33m.\u001b[0m\u001b[0mtext\u001b[0m\u001b[1;33m,\u001b[0m \u001b[1;33m**\u001b[0m\u001b[0mkwargs\u001b[0m\u001b[1;33m)\u001b[0m\u001b[1;33m\u001b[0m\u001b[1;33m\u001b[0m\u001b[0m\n\u001b[0m\u001b[0;32m    898\u001b[0m \u001b[1;33m\u001b[0m\u001b[0m\n\u001b[0;32m    899\u001b[0m     \u001b[1;33m@\u001b[0m\u001b[0mproperty\u001b[0m\u001b[1;33m\u001b[0m\u001b[1;33m\u001b[0m\u001b[0m\n",
      "\u001b[1;32m~\\anaconda3\\lib\\json\\__init__.py\u001b[0m in \u001b[0;36mloads\u001b[1;34m(s, cls, object_hook, parse_float, parse_int, parse_constant, object_pairs_hook, **kw)\u001b[0m\n\u001b[0;32m    355\u001b[0m             \u001b[0mparse_int\u001b[0m \u001b[1;32mis\u001b[0m \u001b[1;32mNone\u001b[0m \u001b[1;32mand\u001b[0m \u001b[0mparse_float\u001b[0m \u001b[1;32mis\u001b[0m \u001b[1;32mNone\u001b[0m \u001b[1;32mand\u001b[0m\u001b[1;33m\u001b[0m\u001b[1;33m\u001b[0m\u001b[0m\n\u001b[0;32m    356\u001b[0m             parse_constant is None and object_pairs_hook is None and not kw):\n\u001b[1;32m--> 357\u001b[1;33m         \u001b[1;32mreturn\u001b[0m \u001b[0m_default_decoder\u001b[0m\u001b[1;33m.\u001b[0m\u001b[0mdecode\u001b[0m\u001b[1;33m(\u001b[0m\u001b[0ms\u001b[0m\u001b[1;33m)\u001b[0m\u001b[1;33m\u001b[0m\u001b[1;33m\u001b[0m\u001b[0m\n\u001b[0m\u001b[0;32m    358\u001b[0m     \u001b[1;32mif\u001b[0m \u001b[0mcls\u001b[0m \u001b[1;32mis\u001b[0m \u001b[1;32mNone\u001b[0m\u001b[1;33m:\u001b[0m\u001b[1;33m\u001b[0m\u001b[1;33m\u001b[0m\u001b[0m\n\u001b[0;32m    359\u001b[0m         \u001b[0mcls\u001b[0m \u001b[1;33m=\u001b[0m \u001b[0mJSONDecoder\u001b[0m\u001b[1;33m\u001b[0m\u001b[1;33m\u001b[0m\u001b[0m\n",
      "\u001b[1;32m~\\anaconda3\\lib\\json\\decoder.py\u001b[0m in \u001b[0;36mdecode\u001b[1;34m(self, s, _w)\u001b[0m\n\u001b[0;32m    335\u001b[0m \u001b[1;33m\u001b[0m\u001b[0m\n\u001b[0;32m    336\u001b[0m         \"\"\"\n\u001b[1;32m--> 337\u001b[1;33m         \u001b[0mobj\u001b[0m\u001b[1;33m,\u001b[0m \u001b[0mend\u001b[0m \u001b[1;33m=\u001b[0m \u001b[0mself\u001b[0m\u001b[1;33m.\u001b[0m\u001b[0mraw_decode\u001b[0m\u001b[1;33m(\u001b[0m\u001b[0ms\u001b[0m\u001b[1;33m,\u001b[0m \u001b[0midx\u001b[0m\u001b[1;33m=\u001b[0m\u001b[0m_w\u001b[0m\u001b[1;33m(\u001b[0m\u001b[0ms\u001b[0m\u001b[1;33m,\u001b[0m \u001b[1;36m0\u001b[0m\u001b[1;33m)\u001b[0m\u001b[1;33m.\u001b[0m\u001b[0mend\u001b[0m\u001b[1;33m(\u001b[0m\u001b[1;33m)\u001b[0m\u001b[1;33m)\u001b[0m\u001b[1;33m\u001b[0m\u001b[1;33m\u001b[0m\u001b[0m\n\u001b[0m\u001b[0;32m    338\u001b[0m         \u001b[0mend\u001b[0m \u001b[1;33m=\u001b[0m \u001b[0m_w\u001b[0m\u001b[1;33m(\u001b[0m\u001b[0ms\u001b[0m\u001b[1;33m,\u001b[0m \u001b[0mend\u001b[0m\u001b[1;33m)\u001b[0m\u001b[1;33m.\u001b[0m\u001b[0mend\u001b[0m\u001b[1;33m(\u001b[0m\u001b[1;33m)\u001b[0m\u001b[1;33m\u001b[0m\u001b[1;33m\u001b[0m\u001b[0m\n\u001b[0;32m    339\u001b[0m         \u001b[1;32mif\u001b[0m \u001b[0mend\u001b[0m \u001b[1;33m!=\u001b[0m \u001b[0mlen\u001b[0m\u001b[1;33m(\u001b[0m\u001b[0ms\u001b[0m\u001b[1;33m)\u001b[0m\u001b[1;33m:\u001b[0m\u001b[1;33m\u001b[0m\u001b[1;33m\u001b[0m\u001b[0m\n",
      "\u001b[1;32m~\\anaconda3\\lib\\json\\decoder.py\u001b[0m in \u001b[0;36mraw_decode\u001b[1;34m(self, s, idx)\u001b[0m\n\u001b[0;32m    353\u001b[0m             \u001b[0mobj\u001b[0m\u001b[1;33m,\u001b[0m \u001b[0mend\u001b[0m \u001b[1;33m=\u001b[0m \u001b[0mself\u001b[0m\u001b[1;33m.\u001b[0m\u001b[0mscan_once\u001b[0m\u001b[1;33m(\u001b[0m\u001b[0ms\u001b[0m\u001b[1;33m,\u001b[0m \u001b[0midx\u001b[0m\u001b[1;33m)\u001b[0m\u001b[1;33m\u001b[0m\u001b[1;33m\u001b[0m\u001b[0m\n\u001b[0;32m    354\u001b[0m         \u001b[1;32mexcept\u001b[0m \u001b[0mStopIteration\u001b[0m \u001b[1;32mas\u001b[0m \u001b[0merr\u001b[0m\u001b[1;33m:\u001b[0m\u001b[1;33m\u001b[0m\u001b[1;33m\u001b[0m\u001b[0m\n\u001b[1;32m--> 355\u001b[1;33m             \u001b[1;32mraise\u001b[0m \u001b[0mJSONDecodeError\u001b[0m\u001b[1;33m(\u001b[0m\u001b[1;34m\"Expecting value\"\u001b[0m\u001b[1;33m,\u001b[0m \u001b[0ms\u001b[0m\u001b[1;33m,\u001b[0m \u001b[0merr\u001b[0m\u001b[1;33m.\u001b[0m\u001b[0mvalue\u001b[0m\u001b[1;33m)\u001b[0m \u001b[1;32mfrom\u001b[0m \u001b[1;32mNone\u001b[0m\u001b[1;33m\u001b[0m\u001b[1;33m\u001b[0m\u001b[0m\n\u001b[0m\u001b[0;32m    356\u001b[0m         \u001b[1;32mreturn\u001b[0m \u001b[0mobj\u001b[0m\u001b[1;33m,\u001b[0m \u001b[0mend\u001b[0m\u001b[1;33m\u001b[0m\u001b[1;33m\u001b[0m\u001b[0m\n",
      "\u001b[1;31mJSONDecodeError\u001b[0m: Expecting value: line 1 column 1 (char 0)"
     ]
    }
   ],
   "source": [
    "# Pull the total available equity in our account from the Alpaca API\n",
    "total_capital = alpaca.get_account().equity\n",
    "print(f\"Total available capital: {total_capital}\")"
   ]
  },
  {
   "cell_type": "code",
   "execution_count": 78,
   "metadata": {},
   "outputs": [
    {
     "ename": "NameError",
     "evalue": "name 'total_capital' is not defined",
     "output_type": "error",
     "traceback": [
      "\u001b[1;31m---------------------------------------------------------------------------\u001b[0m",
      "\u001b[1;31mNameError\u001b[0m                                 Traceback (most recent call last)",
      "\u001b[1;32m<ipython-input-78-a44c76b35540>\u001b[0m in \u001b[0;36m<module>\u001b[1;34m\u001b[0m\n\u001b[0;32m      2\u001b[0m \u001b[1;31m# Use Alpaca API to pull the equity in the account\u001b[0m\u001b[1;33m\u001b[0m\u001b[1;33m\u001b[0m\u001b[1;33m\u001b[0m\u001b[0m\n\u001b[0;32m      3\u001b[0m \u001b[1;32mif\u001b[0m \u001b[0mlen\u001b[0m\u001b[1;33m(\u001b[0m\u001b[0mbuy_dict\u001b[0m\u001b[1;33m)\u001b[0m \u001b[1;33m>\u001b[0m \u001b[1;36m0\u001b[0m\u001b[1;33m:\u001b[0m\u001b[1;33m\u001b[0m\u001b[1;33m\u001b[0m\u001b[0m\n\u001b[1;32m----> 4\u001b[1;33m     \u001b[0mcapital_per_stock\u001b[0m \u001b[1;33m=\u001b[0m \u001b[0mfloat\u001b[0m\u001b[1;33m(\u001b[0m\u001b[0mtotal_capital\u001b[0m\u001b[1;33m)\u001b[0m\u001b[1;33m/\u001b[0m \u001b[0mlen\u001b[0m\u001b[1;33m(\u001b[0m\u001b[0mbuy_dict\u001b[0m\u001b[1;33m)\u001b[0m\u001b[1;33m\u001b[0m\u001b[1;33m\u001b[0m\u001b[0m\n\u001b[0m\u001b[0;32m      5\u001b[0m \u001b[1;32melse\u001b[0m\u001b[1;33m:\u001b[0m\u001b[1;33m\u001b[0m\u001b[1;33m\u001b[0m\u001b[0m\n\u001b[0;32m      6\u001b[0m     \u001b[0mcapital_per_stock\u001b[0m \u001b[1;33m=\u001b[0m \u001b[1;36m0\u001b[0m\u001b[1;33m\u001b[0m\u001b[1;33m\u001b[0m\u001b[0m\n",
      "\u001b[1;31mNameError\u001b[0m: name 'total_capital' is not defined"
     ]
    }
   ],
   "source": [
    "# Compute capital per stock, divide equity in account by number of stocks\n",
    "# Use Alpaca API to pull the equity in the account\n",
    "if len(buy_dict) > 0:\n",
    "    capital_per_stock = float(total_capital)/ len(buy_dict)\n",
    "else:\n",
    "    capital_per_stock = 0\n",
    "print(f'Capital per stock: {capital_per_stock}')"
   ]
  },
  {
   "cell_type": "markdown",
   "metadata": {},
   "source": [
    "#### 7. Use a for-loop to iterate through `buy_dict` to determine the number stocks you need to buy for each ticker."
   ]
  },
  {
   "cell_type": "code",
   "execution_count": 79,
   "metadata": {},
   "outputs": [
    {
     "name": "stdout",
     "output_type": "stream",
     "text": [
      "{'FB': 'n', 'AMZN': 'n', 'AAPL': 'n', 'GOOGL': 'n', 'MSFT': 'n'}\n"
     ]
    }
   ],
   "source": [
    "# Use for loop to iterate through dictionary of buys \n",
    "# Determine the number stocks we need to buy for each ticker\n",
    "for ticker in buy_dict:\n",
    "    try:\n",
    "        buy_dict[ticker] = int(capital_per_stock /int(prices[ticker].iloc[-1]['close']))\n",
    "    except:\n",
    "        pass\n",
    "\n",
    "print(buy_dict)"
   ]
  },
  {
   "cell_type": "markdown",
   "metadata": {},
   "source": [
    "#### 8. Cancel all previous orders in the Alpaca API (so you don't buy more than intended) and sell all currently held stocks to close all positions."
   ]
  },
  {
   "cell_type": "code",
   "execution_count": 80,
   "metadata": {},
   "outputs": [],
   "source": [
    "# Cancel all previous orders in the Alpaca API\n",
    "# YOUR CODE HERE\n",
    "\n",
    "# Sell all currently held stocks to close all positions\n",
    "# YOUR CODE HERE"
   ]
  },
  {
   "cell_type": "markdown",
   "metadata": {},
   "source": [
    "#### 9. Iterate through `buy_dict` and send a buy order for each ticker with their corresponding number of shares."
   ]
  },
  {
   "cell_type": "code",
   "execution_count": 81,
   "metadata": {},
   "outputs": [],
   "source": [
    "# Iterate through the longlist object and send a buy order for each ticker with a corresponding number of shares:\n",
    "# YOUR CODE HERE"
   ]
  },
  {
   "cell_type": "markdown",
   "metadata": {},
   "source": [
    "### Automate the algorithm"
   ]
  },
  {
   "cell_type": "markdown",
   "metadata": {},
   "source": [
    "#### 1. Make a function called `trade()` that incorporates all of the steps above."
   ]
  },
  {
   "cell_type": "code",
   "execution_count": 82,
   "metadata": {},
   "outputs": [],
   "source": [
    "# Add all of the steps conducted above into the function trade\n",
    "def trade():\n",
    "\n",
    "    ticker_list = ['FB','AMZN','AAPL','NFLX', 'GOOGL', 'MSFT', 'TSLA']\n",
    "    # Notice that we remove the start and end variables since we want the latest prices.\n",
    "    timeframe='1Min'\n",
    "    # Use iloc to get the last 10 mins every time we pull new data\n",
    "    prices = api.get_barset(ticker_list, \"minute\").df.iloc[-11:]\n",
    "    prices.ffill(inplace=True)   \n",
    "\n",
    "    # Create and empty DataFrame for closing prices\n",
    "    df_closing_prices = pd.DataFrame()\n",
    "\n",
    "    # Fetch the closing prices of our tickers\n",
    "    df_closing_prices[\"FB\"] = prices[\"FB\"][\"close\"]\n",
    "    df_closing_prices[\"AMZN\"] = prices[\"AMZN\"][\"close\"]\n",
    "    df_closing_prices[\"AAPL\"] = prices[\"AAPL\"][\"close\"]\n",
    "    df_closing_prices[\"NFLX\"] = prices[\"NFLX\"][\"close\"]\n",
    "    df_closing_prices[\"GOOGL\"] = prices[\"GOOGL\"][\"close\"]\n",
    "    df_closing_prices['MSFT'] = prices['MSFT'][\"close\"]\n",
    "    df_closing_prices['TSLA'] = prices['TSLA'][\"close\"]\n",
    "    print(df_closing_prices.head())\n",
    "    \n",
    "    # Loop through momentums to build new DataFrame\n",
    "    list_of_momentums = [1,5,10]\n",
    "    for i in list_of_momentums:   \n",
    "        returns_temp = df_closing_prices.pct_change(i)\n",
    "        returns_temp = pd.DataFrame(returns_temp.unstack())\n",
    "        name = f'{i}_m_returns'\n",
    "        returns_temp.rename(columns={0: name}, inplace = True)\n",
    "        returns_temp.reset_index(inplace = True)\n",
    "        if i ==1:\n",
    "            returns = returns_temp\n",
    "        else:\n",
    "            returns = pd.merge(returns,returns_temp,left_on=['level_0', 'time'],right_on=['level_0', 'time'], how='left', suffixes=('_original', 'right'))\n",
    "\n",
    "    # Drop nulls and set index            \n",
    "    returns.dropna(axis=0, how='any', inplace=True)\n",
    "    returns.set_index(['level_0', 'time'], inplace=True)\n",
    "\n",
    "    # Preprocess data for model\n",
    "    # YOUR CODE HERE\n",
    "\n",
    "    # Create the `buy_dict` object\n",
    "    # YOUR CODE HERE\n",
    "    \n",
    "    # Split capital between stocks and determine buy or sell\n",
    "    # YOUR CODE HERE\n",
    "\n",
    "    \n",
    "    # Cancel pending orders and close positions\n",
    "    # YOUR CODE HERE\n",
    "   \n",
    "    \n",
    "    # Submit orders\n",
    "    # YOUR CODE HERE\n"
   ]
  },
  {
   "cell_type": "markdown",
   "metadata": {},
   "source": [
    "#### 2. Import Python's schedule module."
   ]
  },
  {
   "cell_type": "code",
   "execution_count": 42,
   "metadata": {},
   "outputs": [],
   "source": [
    "# Import Python's schedule module \n",
    "# YOUR CODE HERE"
   ]
  },
  {
   "cell_type": "markdown",
   "metadata": {},
   "source": [
    "#### 3. Use the \"schedule\" module to automate the algorithm:\n",
    "* Clear the schedule with `.clear()`.\n",
    "* Define a schedule to run the trade function every minute at 5 seconds past the minute mark (e.g. `10:31:05`).\n",
    "* Use the Alpaca API to check whether the market is open.\n",
    "* Use run_pending() function inside schedule to execute the schedule you defined while the market is open"
   ]
  },
  {
   "cell_type": "code",
   "execution_count": null,
   "metadata": {},
   "outputs": [
    {
     "name": "stdout",
     "output_type": "stream",
     "text": [
      "                               FB     AMZN     AAPL     NFLX    GOOGL  \\\n",
      "time                                                                    \n",
      "2021-02-02 15:13:00-05:00  267.24  3401.17  134.705  552.420  1924.72   \n",
      "2021-02-02 15:14:00-05:00  267.42  3397.59  134.665  552.530  1924.84   \n",
      "2021-02-02 15:15:00-05:00  267.30  3395.85  134.700  552.690  1924.96   \n",
      "2021-02-02 15:16:00-05:00  267.11  3393.24  134.730  552.320  1925.13   \n",
      "2021-02-02 15:17:00-05:00  267.19  3397.00  134.820  552.685  1926.48   \n",
      "\n",
      "                              MSFT    TSLA  \n",
      "time                                        \n",
      "2021-02-02 15:13:00-05:00  240.705  878.60  \n",
      "2021-02-02 15:14:00-05:00  240.590  878.05  \n",
      "2021-02-02 15:15:00-05:00  240.640  878.22  \n",
      "2021-02-02 15:16:00-05:00  240.460  878.75  \n",
      "2021-02-02 15:17:00-05:00  240.670  878.75  \n",
      "buying AAPL numShare 371\n",
      "buying TSLA numShare 56\n",
      "                               FB      AMZN     AAPL     NFLX    GOOGL  \\\n",
      "time                                                                     \n",
      "2021-02-02 15:14:00-05:00  267.42  3397.590  134.665  552.530  1924.84   \n",
      "2021-02-02 15:15:00-05:00  267.30  3395.850  134.700  552.690  1924.96   \n",
      "2021-02-02 15:16:00-05:00  267.11  3393.240  134.730  552.320  1925.13   \n",
      "2021-02-02 15:17:00-05:00  267.19  3397.000  134.820  552.685  1926.48   \n",
      "2021-02-02 15:18:00-05:00  267.21  3398.505  134.760  552.340  1926.37   \n",
      "\n",
      "                             MSFT    TSLA  \n",
      "time                                       \n",
      "2021-02-02 15:14:00-05:00  240.59  878.05  \n",
      "2021-02-02 15:15:00-05:00  240.64  878.22  \n",
      "2021-02-02 15:16:00-05:00  240.46  878.75  \n",
      "2021-02-02 15:17:00-05:00  240.67  878.75  \n",
      "2021-02-02 15:18:00-05:00  240.72  878.39  \n",
      "buying AMZN numShare 5\n",
      "buying AAPL numShare 148\n",
      "buying NFLX numShare 35\n",
      "buying GOOGL numShare 10\n",
      "buying TSLA numShare 22\n"
     ]
    }
   ],
   "source": [
    "# Clear the schedule\n",
    "# YOUR CODE HERE\n",
    "\n",
    "# Define a schedule to run the trade function every minute at 5 seconds past the minute mark (e.g. 10:31:05)\n",
    "# YOUR CODE HERE\n",
    "\n",
    "# Use the Alpaca API to check whether the market is open\n",
    "# YOUR CODE HERE\n",
    "\n",
    "# Use run_pending() function inside schedule to execute the schedule you defined as long as the market is open\n",
    "# YOUR CODE HERE"
   ]
  },
  {
   "cell_type": "code",
   "execution_count": null,
   "metadata": {},
   "outputs": [],
   "source": []
  }
 ],
 "metadata": {
  "kernelspec": {
   "display_name": "Python 3",
   "language": "python",
   "name": "python3"
  },
  "language_info": {
   "codemirror_mode": {
    "name": "ipython",
    "version": 3
   },
   "file_extension": ".py",
   "mimetype": "text/x-python",
   "name": "python",
   "nbconvert_exporter": "python",
   "pygments_lexer": "ipython3",
   "version": "3.8.3"
  }
 },
 "nbformat": 4,
 "nbformat_minor": 4
}
